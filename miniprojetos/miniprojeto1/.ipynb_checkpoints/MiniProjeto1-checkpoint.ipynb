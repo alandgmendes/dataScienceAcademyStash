{
 "cells": [
  {
   "cell_type": "markdown",
   "id": "99df19d5",
   "metadata": {},
   "source": [
    "# This is an exploratory data analysis, part of the  course Python Fundamentos Para Análise de Dados 3.0 from  [Data Science Academy](www.datascienceacademy.com.br/start)"
   ]
  },
  {
   "cell_type": "markdown",
   "id": "c44bf670",
   "metadata": {},
   "source": [
    "#### This is a free course offered by Data science academy, and I am A physics student, working with webdev and moving on to data science"
   ]
  },
  {
   "cell_type": "markdown",
   "id": "a9ee8fc7",
   "metadata": {},
   "source": [
    "## We will analyse real data from [IMDB - International movie DataBase](https://www.imdb.com)\n",
    "\n",
    "#### "
   ]
  },
  {
   "cell_type": "markdown",
   "id": "4994d2fb",
   "metadata": {},
   "source": [
    "### We will use python, sqlite and sql in order to obtain some insights about the movie data in imdb\n"
   ]
  },
  {
   "cell_type": "markdown",
   "id": "48cfdfa0",
   "metadata": {},
   "source": [
    "### Our analysis will try to cover the following questions about movies:\n",
    "\n",
    "1. Most commom categories of movies on Imbd\n",
    "\n",
    "2. Number of titles per genre\n",
    "\n",
    "3. Ratings median of movies by genre\n",
    "\n",
    "4. Ratings median of movies by debut year\n",
    "\n",
    "5. Number of rated movies by gender relatied to debut year\n",
    "\n",
    "6. Movie with greater duration\n",
    "\n",
    "7. Relation between duration and gender\n",
    "\n",
    "8. Number of movies by country of production\n",
    " \n",
    "9. Top 10 movies\n",
    "\n",
    "11. \"Bottom 10\" movies"
   ]
  },
  {
   "cell_type": "markdown",
   "id": "1f6ebd50",
   "metadata": {},
   "source": [
    "## Setup\n"
   ]
  },
  {
   "cell_type": "markdown",
   "id": "3e83f887",
   "metadata": {},
   "source": [
    "In order to do this analisys, we will use some packages containing pre-made basic tools, since we don't want to spend time re-doing good tools.\n"
   ]
  },
  {
   "cell_type": "markdown",
   "id": "fab11535",
   "metadata": {},
   "source": [
    "First of all, let us keep tracking of the python version we are using:\n"
   ]
  },
  {
   "cell_type": "code",
   "execution_count": 1,
   "id": "152b0bb9",
   "metadata": {},
   "outputs": [
    {
     "name": "stdout",
     "output_type": "stream",
     "text": [
      "Using 3.8.10 version of python\n"
     ]
    }
   ],
   "source": [
    "from platform import python_version\n",
    "print(\"Using \" + python_version() + \" version of python\")"
   ]
  },
  {
   "cell_type": "markdown",
   "id": "798a768a",
   "metadata": {},
   "source": [
    "Since we will analyze data about imdb movies, we will now prepare to get our data.\n",
    "\n",
    "First of all, from pypi we will import a [package](https://pypi.org/project/imdb-sqlite/) containing a database that stores data about Imdb movies. \n"
   ]
  },
  {
   "cell_type": "code",
   "execution_count": 2,
   "id": "2f6f1308",
   "metadata": {},
   "outputs": [
    {
     "name": "stdout",
     "output_type": "stream",
     "text": [
      "\u001b[33mWARNING: You are using pip version 21.3.1; however, version 22.0.3 is available.\r\n",
      "You should consider upgrading via the '/home/alandouglas/dataScienceAcademy/jupyter/bin/python -m pip install --upgrade pip' command.\u001b[0m\r\n"
     ]
    }
   ],
   "source": [
    "!pip install -q imdb_sqlite"
   ]
  },
  {
   "cell_type": "markdown",
   "id": "dedabd93",
   "metadata": {},
   "source": [
    "We will also import [another package](https://pypi.org/project/pycountry/) to join countries and their ISO code"
   ]
  },
  {
   "cell_type": "code",
   "execution_count": 3,
   "id": "4c065790",
   "metadata": {},
   "outputs": [
    {
     "name": "stdout",
     "output_type": "stream",
     "text": [
      "\u001b[33mWARNING: You are using pip version 21.3.1; however, version 22.0.3 is available.\r\n",
      "You should consider upgrading via the '/home/alandouglas/dataScienceAcademy/jupyter/bin/python -m pip install --upgrade pip' command.\u001b[0m\r\n"
     ]
    }
   ],
   "source": [
    "!pip install -q pycountry"
   ]
  },
  {
   "cell_type": "markdown",
   "id": "ff0b133a",
   "metadata": {},
   "source": [
    "We will also use a set of packages for our ingest, processing and analysis. Since the operations will be described as we proceed, I wont bother the user with minucios description about each package right now"
   ]
  },
  {
   "cell_type": "code",
   "execution_count": 4,
   "id": "6bfca3f7",
   "metadata": {},
   "outputs": [],
   "source": [
    "import re\n",
    "import time\n",
    "import sqlite3\n",
    "import pycountry\n",
    "import numpy as np\n",
    "import pandas as pd\n",
    "import matplotlib.pyplot as plt\n",
    "import seaborn as sns\n",
    "from matplotlib import cm\n",
    "from sklearn.feature_extraction.text import CountVectorizer\n",
    "import warnings\n",
    "warnings.filterwarnings(\"ignore\")\n",
    "sns.set_theme(style = \"whitegrid\")"
   ]
  },
  {
   "cell_type": "markdown",
   "id": "a457954e",
   "metadata": {},
   "source": [
    "Now we proceed to download the data. Every first execution will take a long time since it will download all the data fron the package(nearly 10gb).\n",
    "\n",
    "I may come back to store this data remotely in a way that can be accessed in a more friendly way, or maybe store just a part of these data."
   ]
  },
  {
   "cell_type": "code",
   "execution_count": 5,
   "id": "3364c65b",
   "metadata": {},
   "outputs": [
    {
     "name": "stdout",
     "output_type": "stream",
     "text": [
      "2022-02-17 09:30:31,661 DB already exists: (imdb.db). Refusing to modify. Exiting\n",
      "CPU times: user 0 ns, sys: 78.1 ms, total: 78.1 ms\n",
      "Wall time: 646 ms\n"
     ]
    }
   ],
   "source": [
    "%%time\n",
    "!imdb-sqlite"
   ]
  },
  {
   "cell_type": "markdown",
   "id": "8539c86d",
   "metadata": {},
   "source": [
    "Now we create a connection from our notebook to the database"
   ]
  },
  {
   "cell_type": "code",
   "execution_count": 6,
   "id": "9a5ddd73",
   "metadata": {},
   "outputs": [],
   "source": [
    "conn = sqlite3.connect(\"imdb.db\")"
   ]
  },
  {
   "cell_type": "markdown",
   "id": "575bc899",
   "metadata": {},
   "source": [
    "We will query the tables in the database"
   ]
  },
  {
   "cell_type": "code",
   "execution_count": 7,
   "id": "b8a3a3cb",
   "metadata": {},
   "outputs": [],
   "source": [
    "tables = pd.read_sql_query(\"SELECT NAME AS 'Table_Name' FROM sqlite_master WHERE type = 'table'\", conn)"
   ]
  },
  {
   "cell_type": "markdown",
   "id": "eb8dac35",
   "metadata": {},
   "source": [
    "And check the tables stored"
   ]
  },
  {
   "cell_type": "code",
   "execution_count": 8,
   "id": "68738796",
   "metadata": {},
   "outputs": [
    {
     "data": {
      "text/html": [
       "<div>\n",
       "<style scoped>\n",
       "    .dataframe tbody tr th:only-of-type {\n",
       "        vertical-align: middle;\n",
       "    }\n",
       "\n",
       "    .dataframe tbody tr th {\n",
       "        vertical-align: top;\n",
       "    }\n",
       "\n",
       "    .dataframe thead th {\n",
       "        text-align: right;\n",
       "    }\n",
       "</style>\n",
       "<table border=\"1\" class=\"dataframe\">\n",
       "  <thead>\n",
       "    <tr style=\"text-align: right;\">\n",
       "      <th></th>\n",
       "      <th>Table_Name</th>\n",
       "    </tr>\n",
       "  </thead>\n",
       "  <tbody>\n",
       "    <tr>\n",
       "      <th>0</th>\n",
       "      <td>people</td>\n",
       "    </tr>\n",
       "    <tr>\n",
       "      <th>1</th>\n",
       "      <td>titles</td>\n",
       "    </tr>\n",
       "    <tr>\n",
       "      <th>2</th>\n",
       "      <td>akas</td>\n",
       "    </tr>\n",
       "    <tr>\n",
       "      <th>3</th>\n",
       "      <td>crew</td>\n",
       "    </tr>\n",
       "    <tr>\n",
       "      <th>4</th>\n",
       "      <td>episodes</td>\n",
       "    </tr>\n",
       "  </tbody>\n",
       "</table>\n",
       "</div>"
      ],
      "text/plain": [
       "  Table_Name\n",
       "0     people\n",
       "1     titles\n",
       "2       akas\n",
       "3       crew\n",
       "4   episodes"
      ]
     },
     "execution_count": 8,
     "metadata": {},
     "output_type": "execute_result"
    }
   ],
   "source": [
    "tables.head()"
   ]
  },
  {
   "cell_type": "markdown",
   "id": "75909ac3",
   "metadata": {},
   "source": [
    "Now we will see what kind of data is stored in these tables, and their links"
   ]
  },
  {
   "cell_type": "code",
   "execution_count": 9,
   "id": "4480cca0",
   "metadata": {},
   "outputs": [
    {
     "name": "stdout",
     "output_type": "stream",
     "text": [
      "Table people's schema: '\n"
     ]
    },
    {
     "data": {
      "text/html": [
       "<div>\n",
       "<style scoped>\n",
       "    .dataframe tbody tr th:only-of-type {\n",
       "        vertical-align: middle;\n",
       "    }\n",
       "\n",
       "    .dataframe tbody tr th {\n",
       "        vertical-align: top;\n",
       "    }\n",
       "\n",
       "    .dataframe thead th {\n",
       "        text-align: right;\n",
       "    }\n",
       "</style>\n",
       "<table border=\"1\" class=\"dataframe\">\n",
       "  <thead>\n",
       "    <tr style=\"text-align: right;\">\n",
       "      <th></th>\n",
       "      <th>cid</th>\n",
       "      <th>name</th>\n",
       "      <th>type</th>\n",
       "      <th>notnull</th>\n",
       "      <th>dflt_value</th>\n",
       "      <th>pk</th>\n",
       "    </tr>\n",
       "  </thead>\n",
       "  <tbody>\n",
       "    <tr>\n",
       "      <th>0</th>\n",
       "      <td>0</td>\n",
       "      <td>person_id</td>\n",
       "      <td>VARCHAR</td>\n",
       "      <td>0</td>\n",
       "      <td>None</td>\n",
       "      <td>1</td>\n",
       "    </tr>\n",
       "    <tr>\n",
       "      <th>1</th>\n",
       "      <td>1</td>\n",
       "      <td>name</td>\n",
       "      <td>VARCHAR</td>\n",
       "      <td>0</td>\n",
       "      <td>None</td>\n",
       "      <td>0</td>\n",
       "    </tr>\n",
       "    <tr>\n",
       "      <th>2</th>\n",
       "      <td>2</td>\n",
       "      <td>born</td>\n",
       "      <td>INTEGER</td>\n",
       "      <td>0</td>\n",
       "      <td>None</td>\n",
       "      <td>0</td>\n",
       "    </tr>\n",
       "    <tr>\n",
       "      <th>3</th>\n",
       "      <td>3</td>\n",
       "      <td>died</td>\n",
       "      <td>INTEGER</td>\n",
       "      <td>0</td>\n",
       "      <td>None</td>\n",
       "      <td>0</td>\n",
       "    </tr>\n",
       "  </tbody>\n",
       "</table>\n",
       "</div>"
      ],
      "text/plain": [
       "   cid       name     type  notnull dflt_value  pk\n",
       "0    0  person_id  VARCHAR        0       None   1\n",
       "1    1       name  VARCHAR        0       None   0\n",
       "2    2       born  INTEGER        0       None   0\n",
       "3    3       died  INTEGER        0       None   0"
      ]
     },
     "metadata": {},
     "output_type": "display_data"
    },
    {
     "name": "stdout",
     "output_type": "stream",
     "text": [
      "----------------------------------------------------------------------------------------------------\n",
      "\n",
      "\n",
      "Table titles's schema: '\n"
     ]
    },
    {
     "data": {
      "text/html": [
       "<div>\n",
       "<style scoped>\n",
       "    .dataframe tbody tr th:only-of-type {\n",
       "        vertical-align: middle;\n",
       "    }\n",
       "\n",
       "    .dataframe tbody tr th {\n",
       "        vertical-align: top;\n",
       "    }\n",
       "\n",
       "    .dataframe thead th {\n",
       "        text-align: right;\n",
       "    }\n",
       "</style>\n",
       "<table border=\"1\" class=\"dataframe\">\n",
       "  <thead>\n",
       "    <tr style=\"text-align: right;\">\n",
       "      <th></th>\n",
       "      <th>cid</th>\n",
       "      <th>name</th>\n",
       "      <th>type</th>\n",
       "      <th>notnull</th>\n",
       "      <th>dflt_value</th>\n",
       "      <th>pk</th>\n",
       "    </tr>\n",
       "  </thead>\n",
       "  <tbody>\n",
       "    <tr>\n",
       "      <th>0</th>\n",
       "      <td>0</td>\n",
       "      <td>title_id</td>\n",
       "      <td>VARCHAR</td>\n",
       "      <td>0</td>\n",
       "      <td>None</td>\n",
       "      <td>1</td>\n",
       "    </tr>\n",
       "    <tr>\n",
       "      <th>1</th>\n",
       "      <td>1</td>\n",
       "      <td>type</td>\n",
       "      <td>VARCHAR</td>\n",
       "      <td>0</td>\n",
       "      <td>None</td>\n",
       "      <td>0</td>\n",
       "    </tr>\n",
       "    <tr>\n",
       "      <th>2</th>\n",
       "      <td>2</td>\n",
       "      <td>primary_title</td>\n",
       "      <td>VARCHAR</td>\n",
       "      <td>0</td>\n",
       "      <td>None</td>\n",
       "      <td>0</td>\n",
       "    </tr>\n",
       "    <tr>\n",
       "      <th>3</th>\n",
       "      <td>3</td>\n",
       "      <td>original_title</td>\n",
       "      <td>VARCHAR</td>\n",
       "      <td>0</td>\n",
       "      <td>None</td>\n",
       "      <td>0</td>\n",
       "    </tr>\n",
       "    <tr>\n",
       "      <th>4</th>\n",
       "      <td>4</td>\n",
       "      <td>is_adult</td>\n",
       "      <td>INTEGER</td>\n",
       "      <td>0</td>\n",
       "      <td>None</td>\n",
       "      <td>0</td>\n",
       "    </tr>\n",
       "    <tr>\n",
       "      <th>5</th>\n",
       "      <td>5</td>\n",
       "      <td>premiered</td>\n",
       "      <td>INTEGER</td>\n",
       "      <td>0</td>\n",
       "      <td>None</td>\n",
       "      <td>0</td>\n",
       "    </tr>\n",
       "    <tr>\n",
       "      <th>6</th>\n",
       "      <td>6</td>\n",
       "      <td>ended</td>\n",
       "      <td>INTEGER</td>\n",
       "      <td>0</td>\n",
       "      <td>None</td>\n",
       "      <td>0</td>\n",
       "    </tr>\n",
       "    <tr>\n",
       "      <th>7</th>\n",
       "      <td>7</td>\n",
       "      <td>runtime_minutes</td>\n",
       "      <td>INTEGER</td>\n",
       "      <td>0</td>\n",
       "      <td>None</td>\n",
       "      <td>0</td>\n",
       "    </tr>\n",
       "    <tr>\n",
       "      <th>8</th>\n",
       "      <td>8</td>\n",
       "      <td>genres</td>\n",
       "      <td>VARCHAR</td>\n",
       "      <td>0</td>\n",
       "      <td>None</td>\n",
       "      <td>0</td>\n",
       "    </tr>\n",
       "  </tbody>\n",
       "</table>\n",
       "</div>"
      ],
      "text/plain": [
       "   cid             name     type  notnull dflt_value  pk\n",
       "0    0         title_id  VARCHAR        0       None   1\n",
       "1    1             type  VARCHAR        0       None   0\n",
       "2    2    primary_title  VARCHAR        0       None   0\n",
       "3    3   original_title  VARCHAR        0       None   0\n",
       "4    4         is_adult  INTEGER        0       None   0\n",
       "5    5        premiered  INTEGER        0       None   0\n",
       "6    6            ended  INTEGER        0       None   0\n",
       "7    7  runtime_minutes  INTEGER        0       None   0\n",
       "8    8           genres  VARCHAR        0       None   0"
      ]
     },
     "metadata": {},
     "output_type": "display_data"
    },
    {
     "name": "stdout",
     "output_type": "stream",
     "text": [
      "----------------------------------------------------------------------------------------------------\n",
      "\n",
      "\n",
      "Table akas's schema: '\n"
     ]
    },
    {
     "data": {
      "text/html": [
       "<div>\n",
       "<style scoped>\n",
       "    .dataframe tbody tr th:only-of-type {\n",
       "        vertical-align: middle;\n",
       "    }\n",
       "\n",
       "    .dataframe tbody tr th {\n",
       "        vertical-align: top;\n",
       "    }\n",
       "\n",
       "    .dataframe thead th {\n",
       "        text-align: right;\n",
       "    }\n",
       "</style>\n",
       "<table border=\"1\" class=\"dataframe\">\n",
       "  <thead>\n",
       "    <tr style=\"text-align: right;\">\n",
       "      <th></th>\n",
       "      <th>cid</th>\n",
       "      <th>name</th>\n",
       "      <th>type</th>\n",
       "      <th>notnull</th>\n",
       "      <th>dflt_value</th>\n",
       "      <th>pk</th>\n",
       "    </tr>\n",
       "  </thead>\n",
       "  <tbody>\n",
       "    <tr>\n",
       "      <th>0</th>\n",
       "      <td>0</td>\n",
       "      <td>title_id</td>\n",
       "      <td>VARCHAR</td>\n",
       "      <td>0</td>\n",
       "      <td>None</td>\n",
       "      <td>0</td>\n",
       "    </tr>\n",
       "    <tr>\n",
       "      <th>1</th>\n",
       "      <td>1</td>\n",
       "      <td>title</td>\n",
       "      <td>VARCHAR</td>\n",
       "      <td>0</td>\n",
       "      <td>None</td>\n",
       "      <td>0</td>\n",
       "    </tr>\n",
       "    <tr>\n",
       "      <th>2</th>\n",
       "      <td>2</td>\n",
       "      <td>region</td>\n",
       "      <td>VARCHAR</td>\n",
       "      <td>0</td>\n",
       "      <td>None</td>\n",
       "      <td>0</td>\n",
       "    </tr>\n",
       "    <tr>\n",
       "      <th>3</th>\n",
       "      <td>3</td>\n",
       "      <td>language</td>\n",
       "      <td>VARCHAR</td>\n",
       "      <td>0</td>\n",
       "      <td>None</td>\n",
       "      <td>0</td>\n",
       "    </tr>\n",
       "    <tr>\n",
       "      <th>4</th>\n",
       "      <td>4</td>\n",
       "      <td>types</td>\n",
       "      <td>VARCHAR</td>\n",
       "      <td>0</td>\n",
       "      <td>None</td>\n",
       "      <td>0</td>\n",
       "    </tr>\n",
       "    <tr>\n",
       "      <th>5</th>\n",
       "      <td>5</td>\n",
       "      <td>attributes</td>\n",
       "      <td>VARCHAR</td>\n",
       "      <td>0</td>\n",
       "      <td>None</td>\n",
       "      <td>0</td>\n",
       "    </tr>\n",
       "    <tr>\n",
       "      <th>6</th>\n",
       "      <td>6</td>\n",
       "      <td>is_original_title</td>\n",
       "      <td>INTEGER</td>\n",
       "      <td>0</td>\n",
       "      <td>None</td>\n",
       "      <td>0</td>\n",
       "    </tr>\n",
       "  </tbody>\n",
       "</table>\n",
       "</div>"
      ],
      "text/plain": [
       "   cid               name     type  notnull dflt_value  pk\n",
       "0    0           title_id  VARCHAR        0       None   0\n",
       "1    1              title  VARCHAR        0       None   0\n",
       "2    2             region  VARCHAR        0       None   0\n",
       "3    3           language  VARCHAR        0       None   0\n",
       "4    4              types  VARCHAR        0       None   0\n",
       "5    5         attributes  VARCHAR        0       None   0\n",
       "6    6  is_original_title  INTEGER        0       None   0"
      ]
     },
     "metadata": {},
     "output_type": "display_data"
    },
    {
     "name": "stdout",
     "output_type": "stream",
     "text": [
      "----------------------------------------------------------------------------------------------------\n",
      "\n",
      "\n",
      "Table crew's schema: '\n"
     ]
    },
    {
     "data": {
      "text/html": [
       "<div>\n",
       "<style scoped>\n",
       "    .dataframe tbody tr th:only-of-type {\n",
       "        vertical-align: middle;\n",
       "    }\n",
       "\n",
       "    .dataframe tbody tr th {\n",
       "        vertical-align: top;\n",
       "    }\n",
       "\n",
       "    .dataframe thead th {\n",
       "        text-align: right;\n",
       "    }\n",
       "</style>\n",
       "<table border=\"1\" class=\"dataframe\">\n",
       "  <thead>\n",
       "    <tr style=\"text-align: right;\">\n",
       "      <th></th>\n",
       "      <th>cid</th>\n",
       "      <th>name</th>\n",
       "      <th>type</th>\n",
       "      <th>notnull</th>\n",
       "      <th>dflt_value</th>\n",
       "      <th>pk</th>\n",
       "    </tr>\n",
       "  </thead>\n",
       "  <tbody>\n",
       "    <tr>\n",
       "      <th>0</th>\n",
       "      <td>0</td>\n",
       "      <td>title_id</td>\n",
       "      <td>VARCHAR</td>\n",
       "      <td>0</td>\n",
       "      <td>None</td>\n",
       "      <td>0</td>\n",
       "    </tr>\n",
       "    <tr>\n",
       "      <th>1</th>\n",
       "      <td>1</td>\n",
       "      <td>person_id</td>\n",
       "      <td>VARCHAR</td>\n",
       "      <td>0</td>\n",
       "      <td>None</td>\n",
       "      <td>0</td>\n",
       "    </tr>\n",
       "    <tr>\n",
       "      <th>2</th>\n",
       "      <td>2</td>\n",
       "      <td>category</td>\n",
       "      <td>VARCHAR</td>\n",
       "      <td>0</td>\n",
       "      <td>None</td>\n",
       "      <td>0</td>\n",
       "    </tr>\n",
       "    <tr>\n",
       "      <th>3</th>\n",
       "      <td>3</td>\n",
       "      <td>job</td>\n",
       "      <td>VARCHAR</td>\n",
       "      <td>0</td>\n",
       "      <td>None</td>\n",
       "      <td>0</td>\n",
       "    </tr>\n",
       "    <tr>\n",
       "      <th>4</th>\n",
       "      <td>4</td>\n",
       "      <td>characters</td>\n",
       "      <td>VARCHAR</td>\n",
       "      <td>0</td>\n",
       "      <td>None</td>\n",
       "      <td>0</td>\n",
       "    </tr>\n",
       "  </tbody>\n",
       "</table>\n",
       "</div>"
      ],
      "text/plain": [
       "   cid        name     type  notnull dflt_value  pk\n",
       "0    0    title_id  VARCHAR        0       None   0\n",
       "1    1   person_id  VARCHAR        0       None   0\n",
       "2    2    category  VARCHAR        0       None   0\n",
       "3    3         job  VARCHAR        0       None   0\n",
       "4    4  characters  VARCHAR        0       None   0"
      ]
     },
     "metadata": {},
     "output_type": "display_data"
    },
    {
     "name": "stdout",
     "output_type": "stream",
     "text": [
      "----------------------------------------------------------------------------------------------------\n",
      "\n",
      "\n",
      "Table episodes's schema: '\n"
     ]
    },
    {
     "data": {
      "text/html": [
       "<div>\n",
       "<style scoped>\n",
       "    .dataframe tbody tr th:only-of-type {\n",
       "        vertical-align: middle;\n",
       "    }\n",
       "\n",
       "    .dataframe tbody tr th {\n",
       "        vertical-align: top;\n",
       "    }\n",
       "\n",
       "    .dataframe thead th {\n",
       "        text-align: right;\n",
       "    }\n",
       "</style>\n",
       "<table border=\"1\" class=\"dataframe\">\n",
       "  <thead>\n",
       "    <tr style=\"text-align: right;\">\n",
       "      <th></th>\n",
       "      <th>cid</th>\n",
       "      <th>name</th>\n",
       "      <th>type</th>\n",
       "      <th>notnull</th>\n",
       "      <th>dflt_value</th>\n",
       "      <th>pk</th>\n",
       "    </tr>\n",
       "  </thead>\n",
       "  <tbody>\n",
       "    <tr>\n",
       "      <th>0</th>\n",
       "      <td>0</td>\n",
       "      <td>episode_title_id</td>\n",
       "      <td>INTEGER</td>\n",
       "      <td>0</td>\n",
       "      <td>None</td>\n",
       "      <td>0</td>\n",
       "    </tr>\n",
       "    <tr>\n",
       "      <th>1</th>\n",
       "      <td>1</td>\n",
       "      <td>show_title_id</td>\n",
       "      <td>INTEGER</td>\n",
       "      <td>0</td>\n",
       "      <td>None</td>\n",
       "      <td>0</td>\n",
       "    </tr>\n",
       "    <tr>\n",
       "      <th>2</th>\n",
       "      <td>2</td>\n",
       "      <td>season_number</td>\n",
       "      <td>INTEGER</td>\n",
       "      <td>0</td>\n",
       "      <td>None</td>\n",
       "      <td>0</td>\n",
       "    </tr>\n",
       "    <tr>\n",
       "      <th>3</th>\n",
       "      <td>3</td>\n",
       "      <td>eposide_number</td>\n",
       "      <td>INTEGER</td>\n",
       "      <td>0</td>\n",
       "      <td>None</td>\n",
       "      <td>0</td>\n",
       "    </tr>\n",
       "  </tbody>\n",
       "</table>\n",
       "</div>"
      ],
      "text/plain": [
       "   cid              name     type  notnull dflt_value  pk\n",
       "0    0  episode_title_id  INTEGER        0       None   0\n",
       "1    1     show_title_id  INTEGER        0       None   0\n",
       "2    2     season_number  INTEGER        0       None   0\n",
       "3    3    eposide_number  INTEGER        0       None   0"
      ]
     },
     "metadata": {},
     "output_type": "display_data"
    },
    {
     "name": "stdout",
     "output_type": "stream",
     "text": [
      "----------------------------------------------------------------------------------------------------\n",
      "\n",
      "\n",
      "Table ratings's schema: '\n"
     ]
    },
    {
     "data": {
      "text/html": [
       "<div>\n",
       "<style scoped>\n",
       "    .dataframe tbody tr th:only-of-type {\n",
       "        vertical-align: middle;\n",
       "    }\n",
       "\n",
       "    .dataframe tbody tr th {\n",
       "        vertical-align: top;\n",
       "    }\n",
       "\n",
       "    .dataframe thead th {\n",
       "        text-align: right;\n",
       "    }\n",
       "</style>\n",
       "<table border=\"1\" class=\"dataframe\">\n",
       "  <thead>\n",
       "    <tr style=\"text-align: right;\">\n",
       "      <th></th>\n",
       "      <th>cid</th>\n",
       "      <th>name</th>\n",
       "      <th>type</th>\n",
       "      <th>notnull</th>\n",
       "      <th>dflt_value</th>\n",
       "      <th>pk</th>\n",
       "    </tr>\n",
       "  </thead>\n",
       "  <tbody>\n",
       "    <tr>\n",
       "      <th>0</th>\n",
       "      <td>0</td>\n",
       "      <td>title_id</td>\n",
       "      <td>VARCHAR</td>\n",
       "      <td>0</td>\n",
       "      <td>None</td>\n",
       "      <td>1</td>\n",
       "    </tr>\n",
       "    <tr>\n",
       "      <th>1</th>\n",
       "      <td>1</td>\n",
       "      <td>rating</td>\n",
       "      <td>INTEGER</td>\n",
       "      <td>0</td>\n",
       "      <td>None</td>\n",
       "      <td>0</td>\n",
       "    </tr>\n",
       "    <tr>\n",
       "      <th>2</th>\n",
       "      <td>2</td>\n",
       "      <td>votes</td>\n",
       "      <td>INTEGER</td>\n",
       "      <td>0</td>\n",
       "      <td>None</td>\n",
       "      <td>0</td>\n",
       "    </tr>\n",
       "  </tbody>\n",
       "</table>\n",
       "</div>"
      ],
      "text/plain": [
       "   cid      name     type  notnull dflt_value  pk\n",
       "0    0  title_id  VARCHAR        0       None   1\n",
       "1    1    rating  INTEGER        0       None   0\n",
       "2    2     votes  INTEGER        0       None   0"
      ]
     },
     "metadata": {},
     "output_type": "display_data"
    },
    {
     "name": "stdout",
     "output_type": "stream",
     "text": [
      "----------------------------------------------------------------------------------------------------\n",
      "\n",
      "\n"
     ]
    }
   ],
   "source": [
    "table_list = tables[\"Table_Name\"].values.tolist()\n",
    "\n",
    "for table in table_list:\n",
    "    cons = \"PRAGMA TABLE_INFO({})\".format(table)\n",
    "    result = pd.read_sql_query(cons, conn)\n",
    "    print(\"Table \" + table + \"'s schema: '\")\n",
    "    display(result)\n",
    "    print(\"-\"*100)\n",
    "    print(\"\\n\")"
   ]
  },
  {
   "cell_type": "markdown",
   "id": "a32f8b3d",
   "metadata": {},
   "source": [
    "Since we get our data straight and checked it's shape, it's time to analyze it."
   ]
  },
  {
   "cell_type": "markdown",
   "id": "06e605d1",
   "metadata": {},
   "source": [
    "## Analysis"
   ]
  },
  {
   "cell_type": "markdown",
   "id": "85011c76",
   "metadata": {},
   "source": [
    "We will start with our first question:\n"
   ]
  },
  {
   "cell_type": "markdown",
   "id": "f2241cfe",
   "metadata": {},
   "source": [
    "### 1 - Most commom categories of movies on Imbd"
   ]
  },
  {
   "cell_type": "markdown",
   "id": "b97b3ec8",
   "metadata": {},
   "source": [
    "We will create a query returning the titles and their type, group the titles by their type. These data will be on a table. But sometimes a table is not so ergonomic, specially in decision-taking sometimes we must use graphic output of information. Son, not only we will show a table with the titles, their total numbers and percentage, we will also plot a graphic showing the 3 categories with more titles compared to other categories"
   ]
  },
  {
   "cell_type": "code",
   "execution_count": 10,
   "id": "112057f8",
   "metadata": {},
   "outputs": [
    {
     "data": {
      "text/html": [
       "<div>\n",
       "<style scoped>\n",
       "    .dataframe tbody tr th:only-of-type {\n",
       "        vertical-align: middle;\n",
       "    }\n",
       "\n",
       "    .dataframe tbody tr th {\n",
       "        vertical-align: top;\n",
       "    }\n",
       "\n",
       "    .dataframe thead th {\n",
       "        text-align: right;\n",
       "    }\n",
       "</style>\n",
       "<table border=\"1\" class=\"dataframe\">\n",
       "  <thead>\n",
       "    <tr style=\"text-align: right;\">\n",
       "      <th></th>\n",
       "      <th>type</th>\n",
       "      <th>COUNT</th>\n",
       "      <th>percentage</th>\n",
       "    </tr>\n",
       "  </thead>\n",
       "  <tbody>\n",
       "    <tr>\n",
       "      <th>0</th>\n",
       "      <td>movie</td>\n",
       "      <td>599892</td>\n",
       "      <td>6.949434</td>\n",
       "    </tr>\n",
       "    <tr>\n",
       "      <th>1</th>\n",
       "      <td>short</td>\n",
       "      <td>852432</td>\n",
       "      <td>9.874978</td>\n",
       "    </tr>\n",
       "    <tr>\n",
       "      <th>2</th>\n",
       "      <td>tvEpisode</td>\n",
       "      <td>6450533</td>\n",
       "      <td>74.726045</td>\n",
       "    </tr>\n",
       "    <tr>\n",
       "      <th>3</th>\n",
       "      <td>tvMiniSeries</td>\n",
       "      <td>41692</td>\n",
       "      <td>0.482980</td>\n",
       "    </tr>\n",
       "    <tr>\n",
       "      <th>4</th>\n",
       "      <td>tvMovie</td>\n",
       "      <td>134603</td>\n",
       "      <td>1.559305</td>\n",
       "    </tr>\n",
       "    <tr>\n",
       "      <th>5</th>\n",
       "      <td>tvPilot</td>\n",
       "      <td>2</td>\n",
       "      <td>0.000023</td>\n",
       "    </tr>\n",
       "    <tr>\n",
       "      <th>6</th>\n",
       "      <td>tvSeries</td>\n",
       "      <td>219783</td>\n",
       "      <td>2.546071</td>\n",
       "    </tr>\n",
       "    <tr>\n",
       "      <th>7</th>\n",
       "      <td>tvShort</td>\n",
       "      <td>10442</td>\n",
       "      <td>0.120965</td>\n",
       "    </tr>\n",
       "    <tr>\n",
       "      <th>8</th>\n",
       "      <td>tvSpecial</td>\n",
       "      <td>35703</td>\n",
       "      <td>0.413601</td>\n",
       "    </tr>\n",
       "    <tr>\n",
       "      <th>9</th>\n",
       "      <td>video</td>\n",
       "      <td>256905</td>\n",
       "      <td>2.976110</td>\n",
       "    </tr>\n",
       "    <tr>\n",
       "      <th>10</th>\n",
       "      <td>videoGame</td>\n",
       "      <td>30255</td>\n",
       "      <td>0.350488</td>\n",
       "    </tr>\n",
       "  </tbody>\n",
       "</table>\n",
       "</div>"
      ],
      "text/plain": [
       "            type    COUNT  percentage\n",
       "0          movie   599892    6.949434\n",
       "1          short   852432    9.874978\n",
       "2      tvEpisode  6450533   74.726045\n",
       "3   tvMiniSeries    41692    0.482980\n",
       "4        tvMovie   134603    1.559305\n",
       "5        tvPilot        2    0.000023\n",
       "6       tvSeries   219783    2.546071\n",
       "7        tvShort    10442    0.120965\n",
       "8      tvSpecial    35703    0.413601\n",
       "9          video   256905    2.976110\n",
       "10     videoGame    30255    0.350488"
      ]
     },
     "metadata": {},
     "output_type": "display_data"
    },
    {
     "data": {
      "text/plain": [
       "{'COUNT': 729385, 'percentage': 8.449543004007534, 'type': 'others'}"
      ]
     },
     "execution_count": 10,
     "metadata": {},
     "output_type": "execute_result"
    }
   ],
   "source": [
    "cons_category_count = '''SELECT type, COUNT(*)  AS COUNT FROM titles GROUP BY type'''\n",
    "result_category_count = pd.read_sql_query(cons_category_count, conn)\n",
    "\n",
    "result_category_count['percentage'] = (result_category_count['COUNT']  /result_category_count['COUNT'].sum()) * 100\n",
    "\n",
    "display(result_category_count)\n",
    "\n",
    "others = {}\n",
    "\n",
    "others['COUNT'] = result_category_count[result_category_count['percentage'] < 5 ]['COUNT'].sum()\n",
    "\n",
    "others['percentage'] = result_category_count[result_category_count['percentage'] < 5 ]['percentage'].sum()\n",
    "\n",
    "others['type'] = \"others\"\n",
    "\n",
    "others"
   ]
  },
  {
   "cell_type": "markdown",
   "id": "fb8f42ca",
   "metadata": {},
   "source": [
    "Since we grouped others, we will remove them from our original dataset and in its place we will put the \"others\" aggregated data"
   ]
  },
  {
   "cell_type": "code",
   "execution_count": 11,
   "id": "542efa53",
   "metadata": {},
   "outputs": [
    {
     "data": {
      "image/png": "[encoded data removed]",
      "text/plain": [
       "<Figure size 432x288 with 1 Axes>"
      ]
     },
     "metadata": {},
     "output_type": "display_data"
    }
   ],
   "source": [
    "result_category_count = result_category_count[result_category_count['percentage'] > 5]\n",
    "\n",
    "result_category_count = result_category_count.append(others, ignore_index=True)\n",
    "\n",
    "result_category_count = result_category_count.sort_values(by = 'COUNT', ascending = True)\n",
    "\n",
    "labels = [str(result_category_count['type'][i]) + ' ' + '[' + str(round(result_category_count['percentage'][i], 2)) + '%' + ']' for i in result_category_count.index]\n",
    "\n",
    "cs = cm.Set3(np.arange(100))\n",
    "\n",
    "f = plt.figure()\n",
    "\n",
    "plt.pie(result_category_count['COUNT'], labeldistance = 1, radius = 3, colors = cs, wedgeprops = dict(width=0.8))\n",
    "\n",
    "plt.legend(labels = labels, loc ='center', prop = {'size':12})\n",
    "\n",
    "plt.title(\"Title's distribution by type:\" ,loc='Center', fontdict={'fontsize': 20, 'fontweight': 20})\n",
    "\n",
    "plt.show()"
   ]
  },
  {
   "cell_type": "markdown",
   "id": "7c6abf38",
   "metadata": {},
   "source": [
    "### 2 - Number of titles per genre"
   ]
  },
  {
   "cell_type": "markdown",
   "id": "63ffca51",
   "metadata": {},
   "source": [
    "Now we will group our titles by their genre, instead of type. Before we find out what is the most common format of media in imdb, and now we will check which gender are the top present in the availations.\n",
    "\n"
   ]
  },
  {
   "cell_type": "markdown",
   "id": "7363ce5c",
   "metadata": {},
   "source": [
    "In order to do this, we will query the titles table, we will count the movies and group them by genre, then we will calculate the portion of each genre."
   ]
  },
  {
   "cell_type": "code",
   "execution_count": 12,
   "id": "10843364",
   "metadata": {},
   "outputs": [
    {
     "data": {
      "text/html": [
       "<div>\n",
       "<style scoped>\n",
       "    .dataframe tbody tr th:only-of-type {\n",
       "        vertical-align: middle;\n",
       "    }\n",
       "\n",
       "    .dataframe tbody tr th {\n",
       "        vertical-align: top;\n",
       "    }\n",
       "\n",
       "    .dataframe thead th {\n",
       "        text-align: right;\n",
       "    }\n",
       "</style>\n",
       "<table border=\"1\" class=\"dataframe\">\n",
       "  <thead>\n",
       "    <tr style=\"text-align: right;\">\n",
       "      <th></th>\n",
       "      <th>genres</th>\n",
       "      <th>COUNT(*)</th>\n",
       "    </tr>\n",
       "  </thead>\n",
       "  <tbody>\n",
       "    <tr>\n",
       "      <th>0</th>\n",
       "      <td>Action</td>\n",
       "      <td>13759</td>\n",
       "    </tr>\n",
       "    <tr>\n",
       "      <th>1</th>\n",
       "      <td>Action,Adult</td>\n",
       "      <td>11</td>\n",
       "    </tr>\n",
       "    <tr>\n",
       "      <th>2</th>\n",
       "      <td>Action,Adult,Adventure</td>\n",
       "      <td>2</td>\n",
       "    </tr>\n",
       "    <tr>\n",
       "      <th>3</th>\n",
       "      <td>Action,Adult,Comedy</td>\n",
       "      <td>5</td>\n",
       "    </tr>\n",
       "    <tr>\n",
       "      <th>4</th>\n",
       "      <td>Action,Adult,Crime</td>\n",
       "      <td>10</td>\n",
       "    </tr>\n",
       "    <tr>\n",
       "      <th>...</th>\n",
       "      <td>...</td>\n",
       "      <td>...</td>\n",
       "    </tr>\n",
       "    <tr>\n",
       "      <th>1449</th>\n",
       "      <td>Thriller,Western</td>\n",
       "      <td>42</td>\n",
       "    </tr>\n",
       "    <tr>\n",
       "      <th>1450</th>\n",
       "      <td>War</td>\n",
       "      <td>1284</td>\n",
       "    </tr>\n",
       "    <tr>\n",
       "      <th>1451</th>\n",
       "      <td>War,Western</td>\n",
       "      <td>14</td>\n",
       "    </tr>\n",
       "    <tr>\n",
       "      <th>1452</th>\n",
       "      <td>Western</td>\n",
       "      <td>5081</td>\n",
       "    </tr>\n",
       "    <tr>\n",
       "      <th>1453</th>\n",
       "      <td>\\N</td>\n",
       "      <td>71224</td>\n",
       "    </tr>\n",
       "  </tbody>\n",
       "</table>\n",
       "<p>1454 rows × 2 columns</p>\n",
       "</div>"
      ],
      "text/plain": [
       "                      genres  COUNT(*)\n",
       "0                     Action     13759\n",
       "1               Action,Adult        11\n",
       "2     Action,Adult,Adventure         2\n",
       "3        Action,Adult,Comedy         5\n",
       "4         Action,Adult,Crime        10\n",
       "...                      ...       ...\n",
       "1449        Thriller,Western        42\n",
       "1450                     War      1284\n",
       "1451             War,Western        14\n",
       "1452                 Western      5081\n",
       "1453                      \\N     71224\n",
       "\n",
       "[1454 rows x 2 columns]"
      ]
     },
     "metadata": {},
     "output_type": "display_data"
    }
   ],
   "source": [
    "consult_genre_count = '''SELECT genres, COUNT(*) FROM titles WHERE type = 'movie' GROUP BY genres'''\n",
    "\n",
    "result_genre_count= pd.read_sql_query(consult_genre_count, conn)\n",
    "\n",
    "display(result_genre_count)\n",
    "\n",
    "result_genre_count['genres'].str.lower().values\n",
    "\n",
    "temp = result_genre_count['genres'].dropna()"
   ]
  },
  {
   "cell_type": "markdown",
   "id": "4ce2fe78",
   "metadata": {},
   "source": [
    "Since there are titles with more than one genre, we will first split the multi-genre movies and count only the unique genres."
   ]
  },
  {
   "cell_type": "markdown",
   "id": "e1ab34dc",
   "metadata": {},
   "source": [
    "We will do it by first taking the column names, then we will use CountVectorize to transform it in a bag of words, and using\n",
    "this bag of words, we will build a sparse matrix with one hot encoders for each genre. So we will manipulate the data way \n",
    "easier "
   ]
  },
  {
   "cell_type": "code",
   "execution_count": 13,
   "id": "b856f2ff",
   "metadata": {},
   "outputs": [
    {
     "name": "stdout",
     "output_type": "stream",
     "text": [
      "<class 'pandas.core.frame.DataFrame'>\n",
      "Int64Index: 1454 entries, 0 to 1453\n",
      "Data columns (total 29 columns):\n",
      " #   Column       Non-Null Count  Dtype\n",
      "---  ------       --------------  -----\n",
      " 0   action       1454 non-null   int64\n",
      " 1   adult        1454 non-null   int64\n",
      " 2   adventure    1454 non-null   int64\n",
      " 3   animation    1454 non-null   int64\n",
      " 4   biography    1454 non-null   int64\n",
      " 5   comedy       1454 non-null   int64\n",
      " 6   crime        1454 non-null   int64\n",
      " 7   documentary  1454 non-null   int64\n",
      " 8   drama        1454 non-null   int64\n",
      " 9   family       1454 non-null   int64\n",
      " 10  fantasy      1454 non-null   int64\n",
      " 11  film-noir    1454 non-null   int64\n",
      " 12  game-show    1454 non-null   int64\n",
      " 13  history      1454 non-null   int64\n",
      " 14  horror       1454 non-null   int64\n",
      " 15  music        1454 non-null   int64\n",
      " 16  musical      1454 non-null   int64\n",
      " 17  mystery      1454 non-null   int64\n",
      " 18  n            1454 non-null   int64\n",
      " 19  news         1454 non-null   int64\n",
      " 20  reality-tv   1454 non-null   int64\n",
      " 21  romance      1454 non-null   int64\n",
      " 22  sci-fi       1454 non-null   int64\n",
      " 23  short        1454 non-null   int64\n",
      " 24  sport        1454 non-null   int64\n",
      " 25  talk-show    1454 non-null   int64\n",
      " 26  thriller     1454 non-null   int64\n",
      " 27  war          1454 non-null   int64\n",
      " 28  western      1454 non-null   int64\n",
      "dtypes: int64(29)\n",
      "memory usage: 340.8 KB\n"
     ]
    }
   ],
   "source": [
    "consult_genre_count = '''SELECT genres, COUNT(*) FROM titles WHERE type = 'movie' GROUP BY genres'''\n",
    "\n",
    "result_genre_count= pd.read_sql_query(consult_genre_count, conn)\n",
    "\n",
    "result_genre_count['genres'].str.lower().values\n",
    "\n",
    "temp = result_genre_count['genres'].dropna()\n",
    "\n",
    "pattern = '(?u)\\\\b[\\\\w-]+\\\\b'\n",
    "\n",
    "vector = CountVectorizer(token_pattern = pattern, analyzer = 'word').fit(temp)\n",
    "\n",
    "bag_genres = vector.transform(temp)\n",
    "\n",
    "unique_genres = vector.get_feature_names()\n",
    "\n",
    "genres = pd.DataFrame(bag_genres.todense(), columns =unique_genres, index = temp.index)\n",
    "\n",
    "genres.info()\n",
    "\n"
   ]
  },
  {
   "cell_type": "markdown",
   "id": "cefc3765",
   "metadata": {},
   "source": [
    "We have an invasor column, \"n\", we will eliminate it and plot an horizontal bars graphic with all genres"
   ]
  },
  {
   "cell_type": "code",
   "execution_count": 14,
   "id": "5ccd3972",
   "metadata": {},
   "outputs": [
    {
     "data": {
      "image/png": "[encoded data removed]",
      "text/plain": [
       "<Figure size 1152x576 with 1 Axes>"
      ]
     },
     "metadata": {},
     "output_type": "display_data"
    }
   ],
   "source": [
    "genres = genres.drop(columns = 'n', axis = 0)\n",
    "\n",
    "genres_percentage = 100 * pd.Series(genres.sum()).sort_values(ascending = False) / genres.shape[0]\n",
    "\n",
    "genres_percentage.head(30)\n",
    "\n",
    "plt.figure(figsize = (16, 8))\n",
    "\n",
    "sns.barplot(x = genres_percentage.values, y = genres_percentage.index, orient = \"h\", palette = \"terrain\")\n",
    "\n",
    "plt.ylabel('Genre')\n",
    "\n",
    "plt.xlabel('Percentage of movies (%)')\n",
    "\n",
    "plt.title(\"\\nPercentage of movies per genre\\n\")\n",
    "\n",
    "plt.show()"
   ]
  },
  {
   "cell_type": "markdown",
   "id": "98b63ff3",
   "metadata": {},
   "source": [
    "This distribution suggests further observation over the different classifications, but we will do it in other occasion.\n",
    "\n",
    "By now, we can say that drama has the highest number of availations, followed by commedy, documentary, adventure, action and the other genres."
   ]
  },
  {
   "cell_type": "markdown",
   "id": "fc11d2bd",
   "metadata": {},
   "source": [
    "## 3 - Median by genre"
   ]
  },
  {
   "cell_type": "markdown",
   "id": "0cae212f",
   "metadata": {},
   "source": [
    "Now we will inspect the median rating by movie genre."
   ]
  },
  {
   "cell_type": "code",
   "execution_count": 15,
   "id": "f0406783",
   "metadata": {},
   "outputs": [],
   "source": [
    "consult_median_by_genre = '''\n",
    "SELECT rating, genres FROM ratings JOIN titles ON ratings.title_id = titles.title_id\n",
    "WHERE premiered <= 2022 AND type = 'movie'\n",
    "'''"
   ]
  },
  {
   "cell_type": "code",
   "execution_count": 16,
   "id": "91bcd406",
   "metadata": {},
   "outputs": [],
   "source": [
    "result_median_by_genre = pd.read_sql_query(consult_median_by_genre, conn)"
   ]
  },
  {
   "cell_type": "code",
   "execution_count": 17,
   "id": "ee270dce",
   "metadata": {},
   "outputs": [
    {
     "data": {
      "text/html": [
       "<div>\n",
       "<style scoped>\n",
       "    .dataframe tbody tr th:only-of-type {\n",
       "        vertical-align: middle;\n",
       "    }\n",
       "\n",
       "    .dataframe tbody tr th {\n",
       "        vertical-align: top;\n",
       "    }\n",
       "\n",
       "    .dataframe thead th {\n",
       "        text-align: right;\n",
       "    }\n",
       "</style>\n",
       "<table border=\"1\" class=\"dataframe\">\n",
       "  <thead>\n",
       "    <tr style=\"text-align: right;\">\n",
       "      <th></th>\n",
       "      <th>rating</th>\n",
       "      <th>genres</th>\n",
       "    </tr>\n",
       "  </thead>\n",
       "  <tbody>\n",
       "    <tr>\n",
       "      <th>0</th>\n",
       "      <td>4.4</td>\n",
       "      <td>\\N</td>\n",
       "    </tr>\n",
       "    <tr>\n",
       "      <th>1</th>\n",
       "      <td>6.1</td>\n",
       "      <td>Action,Adventure,Biography</td>\n",
       "    </tr>\n",
       "    <tr>\n",
       "      <th>2</th>\n",
       "      <td>4.9</td>\n",
       "      <td>Drama</td>\n",
       "    </tr>\n",
       "    <tr>\n",
       "      <th>3</th>\n",
       "      <td>4.4</td>\n",
       "      <td>Drama</td>\n",
       "    </tr>\n",
       "    <tr>\n",
       "      <th>4</th>\n",
       "      <td>3.8</td>\n",
       "      <td>Drama</td>\n",
       "    </tr>\n",
       "    <tr>\n",
       "      <th>...</th>\n",
       "      <td>...</td>\n",
       "      <td>...</td>\n",
       "    </tr>\n",
       "    <tr>\n",
       "      <th>274044</th>\n",
       "      <td>3.6</td>\n",
       "      <td>Action,Adventure,Thriller</td>\n",
       "    </tr>\n",
       "    <tr>\n",
       "      <th>274045</th>\n",
       "      <td>5.8</td>\n",
       "      <td>Thriller</td>\n",
       "    </tr>\n",
       "    <tr>\n",
       "      <th>274046</th>\n",
       "      <td>6.4</td>\n",
       "      <td>Drama,History</td>\n",
       "    </tr>\n",
       "    <tr>\n",
       "      <th>274047</th>\n",
       "      <td>3.8</td>\n",
       "      <td>Adventure,History,War</td>\n",
       "    </tr>\n",
       "    <tr>\n",
       "      <th>274048</th>\n",
       "      <td>8.3</td>\n",
       "      <td>Drama</td>\n",
       "    </tr>\n",
       "  </tbody>\n",
       "</table>\n",
       "<p>274049 rows × 2 columns</p>\n",
       "</div>"
      ],
      "text/plain": [
       "        rating                      genres\n",
       "0          4.4                          \\N\n",
       "1          6.1  Action,Adventure,Biography\n",
       "2          4.9                       Drama\n",
       "3          4.4                       Drama\n",
       "4          3.8                       Drama\n",
       "...        ...                         ...\n",
       "274044     3.6   Action,Adventure,Thriller\n",
       "274045     5.8                    Thriller\n",
       "274046     6.4               Drama,History\n",
       "274047     3.8       Adventure,History,War\n",
       "274048     8.3                       Drama\n",
       "\n",
       "[274049 rows x 2 columns]"
      ]
     },
     "metadata": {},
     "output_type": "display_data"
    }
   ],
   "source": [
    "display(result_median_by_genre)"
   ]
  },
  {
   "cell_type": "raw",
   "id": "e548940f",
   "metadata": {},
   "source": [
    "Creating a function to split the movies with more than one genre:\n",
    "\n"
   ]
  },
  {
   "cell_type": "code",
   "execution_count": 18,
   "id": "fee056ff",
   "metadata": {},
   "outputs": [],
   "source": [
    "def genre_get(df):\n",
    "\tdf['genres'] = df['genres'].str.lower().values\n",
    "\ttemp = df['genres'].dropna()\n",
    "\ttokenVector = CountVectorizer(token_pattern = '(?u)\\\\b[\\\\w-]+\\\\b', analyzer = 'word').fit(temp)\n",
    "\tunique_genres = tokenVector.get_feature_names()\n",
    "\tunique_genres = [genre for genre in unique_genres if len(genre) > 1]\n",
    "\treturn unique_genres\n",
    " "
   ]
  },
  {
   "cell_type": "code",
   "execution_count": 19,
   "id": "f9270877",
   "metadata": {},
   "outputs": [],
   "source": [
    "unique_genres = genre_get(result_median_by_genre)"
   ]
  },
  {
   "cell_type": "markdown",
   "id": "3f8bbc48",
   "metadata": {},
   "source": [
    "Unique genres splitted:"
   ]
  },
  {
   "cell_type": "code",
   "execution_count": 20,
   "id": "6129340f",
   "metadata": {},
   "outputs": [
    {
     "data": {
      "text/plain": [
       "['action',\n",
       " 'adult',\n",
       " 'adventure',\n",
       " 'animation',\n",
       " 'biography',\n",
       " 'comedy',\n",
       " 'crime',\n",
       " 'documentary',\n",
       " 'drama',\n",
       " 'family',\n",
       " 'fantasy',\n",
       " 'film-noir',\n",
       " 'game-show',\n",
       " 'history',\n",
       " 'horror',\n",
       " 'music',\n",
       " 'musical',\n",
       " 'mystery',\n",
       " 'news',\n",
       " 'reality-tv',\n",
       " 'romance',\n",
       " 'sci-fi',\n",
       " 'short',\n",
       " 'sport',\n",
       " 'talk-show',\n",
       " 'thriller',\n",
       " 'war',\n",
       " 'western']"
      ]
     },
     "execution_count": 20,
     "metadata": {},
     "output_type": "execute_result"
    }
   ],
   "source": [
    "unique_genres"
   ]
  },
  {
   "cell_type": "code",
   "execution_count": 21,
   "id": "a021ab23",
   "metadata": {},
   "outputs": [],
   "source": [
    "genre_counts = []\n",
    "genre_ratings = []"
   ]
  },
  {
   "cell_type": "code",
   "execution_count": 22,
   "id": "6d10f8b7",
   "metadata": {},
   "outputs": [],
   "source": [
    "for item in genres:\n",
    "\tconsult = 'SELECT COUNT(rating) FROM ratings JOIN titles ON ratings.title_id = titles.title_id WHERE genres LIKE ' + '\\'' + '%' + item + '%'  + '\\' AND type = \\'movie\\''\n",
    "\tresult = pd.read_sql_query(consult, conn)\n",
    "\tgenre_counts.append(result.values[0][0])\n",
    "\n",
    "\tconsult = 'SELECT rating FROM ratings JOIN titles ON ratings.title_id = titles.title_id WHERE genres LIKE ' + '\\'' + '%' + item + '%'  + '\\' AND type = \\'movie\\''\n",
    "\tresult = pd.read_sql_query(consult, conn)\n",
    "\tgenre_ratings.append(np.median(result['rating']))"
   ]
  },
  {
   "cell_type": "code",
   "execution_count": 23,
   "id": "f09b7ce8",
   "metadata": {},
   "outputs": [],
   "source": [
    "df_genre_ratings = pd.DataFrame()\n",
    "df_genre_ratings['genres'] = unique_genres\n",
    "df_genre_ratings['count'] = genre_counts\n",
    "df_genre_ratings['rating'] = genre_ratings\n"
   ]
  },
  {
   "cell_type": "code",
   "execution_count": 24,
   "id": "6bbc2c4c",
   "metadata": {},
   "outputs": [
    {
     "data": {
      "text/html": [
       "<div>\n",
       "<style scoped>\n",
       "    .dataframe tbody tr th:only-of-type {\n",
       "        vertical-align: middle;\n",
       "    }\n",
       "\n",
       "    .dataframe tbody tr th {\n",
       "        vertical-align: top;\n",
       "    }\n",
       "\n",
       "    .dataframe thead th {\n",
       "        text-align: right;\n",
       "    }\n",
       "</style>\n",
       "<table border=\"1\" class=\"dataframe\">\n",
       "  <thead>\n",
       "    <tr style=\"text-align: right;\">\n",
       "      <th></th>\n",
       "      <th>genres</th>\n",
       "      <th>count</th>\n",
       "      <th>rating</th>\n",
       "    </tr>\n",
       "  </thead>\n",
       "  <tbody>\n",
       "    <tr>\n",
       "      <th>0</th>\n",
       "      <td>action</td>\n",
       "      <td>28408</td>\n",
       "      <td>5.8</td>\n",
       "    </tr>\n",
       "    <tr>\n",
       "      <th>1</th>\n",
       "      <td>adult</td>\n",
       "      <td>4238</td>\n",
       "      <td>5.9</td>\n",
       "    </tr>\n",
       "    <tr>\n",
       "      <th>2</th>\n",
       "      <td>adventure</td>\n",
       "      <td>17213</td>\n",
       "      <td>6.0</td>\n",
       "    </tr>\n",
       "    <tr>\n",
       "      <th>3</th>\n",
       "      <td>animation</td>\n",
       "      <td>4817</td>\n",
       "      <td>6.4</td>\n",
       "    </tr>\n",
       "    <tr>\n",
       "      <th>4</th>\n",
       "      <td>biography</td>\n",
       "      <td>8260</td>\n",
       "      <td>7.0</td>\n",
       "    </tr>\n",
       "    <tr>\n",
       "      <th>5</th>\n",
       "      <td>comedy</td>\n",
       "      <td>67914</td>\n",
       "      <td>6.0</td>\n",
       "    </tr>\n",
       "    <tr>\n",
       "      <th>6</th>\n",
       "      <td>crime</td>\n",
       "      <td>23398</td>\n",
       "      <td>6.1</td>\n",
       "    </tr>\n",
       "    <tr>\n",
       "      <th>7</th>\n",
       "      <td>documentary</td>\n",
       "      <td>40547</td>\n",
       "      <td>7.3</td>\n",
       "    </tr>\n",
       "    <tr>\n",
       "      <th>8</th>\n",
       "      <td>drama</td>\n",
       "      <td>121372</td>\n",
       "      <td>6.3</td>\n",
       "    </tr>\n",
       "    <tr>\n",
       "      <th>9</th>\n",
       "      <td>family</td>\n",
       "      <td>10631</td>\n",
       "      <td>6.3</td>\n",
       "    </tr>\n",
       "    <tr>\n",
       "      <th>10</th>\n",
       "      <td>fantasy</td>\n",
       "      <td>8106</td>\n",
       "      <td>6.1</td>\n",
       "    </tr>\n",
       "    <tr>\n",
       "      <th>11</th>\n",
       "      <td>film-noir</td>\n",
       "      <td>762</td>\n",
       "      <td>6.6</td>\n",
       "    </tr>\n",
       "    <tr>\n",
       "      <th>12</th>\n",
       "      <td>game-show</td>\n",
       "      <td>2</td>\n",
       "      <td>6.8</td>\n",
       "    </tr>\n",
       "    <tr>\n",
       "      <th>13</th>\n",
       "      <td>history</td>\n",
       "      <td>7541</td>\n",
       "      <td>6.9</td>\n",
       "    </tr>\n",
       "    <tr>\n",
       "      <th>14</th>\n",
       "      <td>horror</td>\n",
       "      <td>19406</td>\n",
       "      <td>5.0</td>\n",
       "    </tr>\n",
       "    <tr>\n",
       "      <th>15</th>\n",
       "      <td>music</td>\n",
       "      <td>12461</td>\n",
       "      <td>6.6</td>\n",
       "    </tr>\n",
       "    <tr>\n",
       "      <th>16</th>\n",
       "      <td>musical</td>\n",
       "      <td>6193</td>\n",
       "      <td>6.2</td>\n",
       "    </tr>\n",
       "    <tr>\n",
       "      <th>17</th>\n",
       "      <td>mystery</td>\n",
       "      <td>10219</td>\n",
       "      <td>6.0</td>\n",
       "    </tr>\n",
       "    <tr>\n",
       "      <th>18</th>\n",
       "      <td>news</td>\n",
       "      <td>652</td>\n",
       "      <td>7.3</td>\n",
       "    </tr>\n",
       "    <tr>\n",
       "      <th>19</th>\n",
       "      <td>reality-tv</td>\n",
       "      <td>44</td>\n",
       "      <td>6.1</td>\n",
       "    </tr>\n",
       "  </tbody>\n",
       "</table>\n",
       "</div>"
      ],
      "text/plain": [
       "         genres   count  rating\n",
       "0        action   28408     5.8\n",
       "1         adult    4238     5.9\n",
       "2     adventure   17213     6.0\n",
       "3     animation    4817     6.4\n",
       "4     biography    8260     7.0\n",
       "5        comedy   67914     6.0\n",
       "6         crime   23398     6.1\n",
       "7   documentary   40547     7.3\n",
       "8         drama  121372     6.3\n",
       "9        family   10631     6.3\n",
       "10      fantasy    8106     6.1\n",
       "11    film-noir     762     6.6\n",
       "12    game-show       2     6.8\n",
       "13      history    7541     6.9\n",
       "14       horror   19406     5.0\n",
       "15        music   12461     6.6\n",
       "16      musical    6193     6.2\n",
       "17      mystery   10219     6.0\n",
       "18         news     652     7.3\n",
       "19   reality-tv      44     6.1"
      ]
     },
     "execution_count": 24,
     "metadata": {},
     "output_type": "execute_result"
    }
   ],
   "source": [
    "df_genre_ratings.head(20)"
   ]
  },
  {
   "cell_type": "code",
   "execution_count": 25,
   "id": "0eaf9732",
   "metadata": {},
   "outputs": [],
   "source": [
    "df_genre_ratings = df_genre_ratings.drop(index=18)"
   ]
  },
  {
   "cell_type": "code",
   "execution_count": 26,
   "id": "1f6ea1db",
   "metadata": {},
   "outputs": [],
   "source": [
    "df_genre_ratings = df_genre_ratings.sort_values(by = 'rating', ascending = False)"
   ]
  },
  {
   "cell_type": "code",
   "execution_count": 27,
   "id": "edcb1db3",
   "metadata": {},
   "outputs": [
    {
     "data": {
      "image/png": "[encoded data removed]",
      "text/plain": [
       "<Figure size 1152x720 with 1 Axes>"
      ]
     },
     "metadata": {},
     "output_type": "display_data"
    }
   ],
   "source": [
    "plt.figure(figsize = (16, 10))\n",
    "sns.barplot(y = df_genre_ratings.genres, x = df_genre_ratings.rating, orient=\"h\")\n",
    "for i in range(len(df_genre_ratings.index)):\n",
    "\tplt.text(4.0, i + 0.25,\n",
    "\tstr(df_genre_ratings['count'][df_genre_ratings.index[i]]) + \" filmes\")\n",
    "\tplt.text(df_genre_ratings.rating[df_genre_ratings.index[i]], i + 0.25,\n",
    "\tround(df_genre_ratings['rating'][df_genre_ratings.index[i]], 2))\n",
    "    \n",
    "plt.xlabel('Genre')\n",
    "plt.ylabel('Rating')\n",
    "plt.title('\\nMedian Avaliation by genre')\n",
    "plt.show()\n"
   ]
  },
  {
   "cell_type": "code",
   "execution_count": null,
   "id": "0ea4d51d",
   "metadata": {},
   "outputs": [],
   "source": []
  },
  {
   "cell_type": "code",
   "execution_count": null,
   "id": "9c224b35",
   "metadata": {},
   "outputs": [],
   "source": []
  },
  {
   "cell_type": "code",
   "execution_count": 28,
   "id": "3d7e8b82",
   "metadata": {},
   "outputs": [
    {
     "data": {
      "text/plain": [
       "Text(0.5, 1.0, '\\nMedian Avaliation by genre')"
      ]
     },
     "execution_count": 28,
     "metadata": {},
     "output_type": "execute_result"
    },
    {
     "data": {
      "image/png": "[encoded data removed]",
      "text/plain": [
       "<Figure size 432x288 with 1 Axes>"
      ]
     },
     "metadata": {},
     "output_type": "display_data"
    }
   ],
   "source": [
    "plt.xlabel('Genre')\n",
    "plt.ylabel('Rating')\n",
    "plt.title('\\nMedian Avaliation by genre')\n"
   ]
  },
  {
   "cell_type": "code",
   "execution_count": 29,
   "id": "196c98d0",
   "metadata": {},
   "outputs": [],
   "source": [
    "plt.show()"
   ]
  },
  {
   "cell_type": "code",
   "execution_count": 30,
   "id": "0842fc73",
   "metadata": {},
   "outputs": [],
   "source": [
    "consult4 = '''\n",
    "SELECT rating AS Rating, premiered FROM ratings JOIN titles ON ratings.title_id = titles.title_id\n",
    "WHERE premiered <= 2022 AND type = 'movie'\n",
    "ORDER BY premiered\n",
    "'''"
   ]
  },
  {
   "cell_type": "code",
   "execution_count": 31,
   "id": "443a6960",
   "metadata": {},
   "outputs": [],
   "source": [
    "result4 = pd.read_sql_query(consult4, conn)"
   ]
  },
  {
   "cell_type": "code",
   "execution_count": 32,
   "id": "80c63d6b",
   "metadata": {},
   "outputs": [
    {
     "data": {
      "text/html": [
       "<div>\n",
       "<style scoped>\n",
       "    .dataframe tbody tr th:only-of-type {\n",
       "        vertical-align: middle;\n",
       "    }\n",
       "\n",
       "    .dataframe tbody tr th {\n",
       "        vertical-align: top;\n",
       "    }\n",
       "\n",
       "    .dataframe thead th {\n",
       "        text-align: right;\n",
       "    }\n",
       "</style>\n",
       "<table border=\"1\" class=\"dataframe\">\n",
       "  <thead>\n",
       "    <tr style=\"text-align: right;\">\n",
       "      <th></th>\n",
       "      <th>Rating</th>\n",
       "      <th>premiered</th>\n",
       "    </tr>\n",
       "  </thead>\n",
       "  <tbody>\n",
       "    <tr>\n",
       "      <th>0</th>\n",
       "      <td>6.2</td>\n",
       "      <td>1896</td>\n",
       "    </tr>\n",
       "    <tr>\n",
       "      <th>1</th>\n",
       "      <td>4.5</td>\n",
       "      <td>1897</td>\n",
       "    </tr>\n",
       "    <tr>\n",
       "      <th>2</th>\n",
       "      <td>4.0</td>\n",
       "      <td>1899</td>\n",
       "    </tr>\n",
       "    <tr>\n",
       "      <th>3</th>\n",
       "      <td>3.7</td>\n",
       "      <td>1899</td>\n",
       "    </tr>\n",
       "    <tr>\n",
       "      <th>4</th>\n",
       "      <td>6.0</td>\n",
       "      <td>1900</td>\n",
       "    </tr>\n",
       "    <tr>\n",
       "      <th>...</th>\n",
       "      <td>...</td>\n",
       "      <td>...</td>\n",
       "    </tr>\n",
       "    <tr>\n",
       "      <th>274044</th>\n",
       "      <td>7.9</td>\n",
       "      <td>2022</td>\n",
       "    </tr>\n",
       "    <tr>\n",
       "      <th>274045</th>\n",
       "      <td>1.2</td>\n",
       "      <td>2022</td>\n",
       "    </tr>\n",
       "    <tr>\n",
       "      <th>274046</th>\n",
       "      <td>4.4</td>\n",
       "      <td>2022</td>\n",
       "    </tr>\n",
       "    <tr>\n",
       "      <th>274047</th>\n",
       "      <td>3.6</td>\n",
       "      <td>2022</td>\n",
       "    </tr>\n",
       "    <tr>\n",
       "      <th>274048</th>\n",
       "      <td>6.1</td>\n",
       "      <td>2022</td>\n",
       "    </tr>\n",
       "  </tbody>\n",
       "</table>\n",
       "<p>274049 rows × 2 columns</p>\n",
       "</div>"
      ],
      "text/plain": [
       "        Rating  premiered\n",
       "0          6.2       1896\n",
       "1          4.5       1897\n",
       "2          4.0       1899\n",
       "3          3.7       1899\n",
       "4          6.0       1900\n",
       "...        ...        ...\n",
       "274044     7.9       2022\n",
       "274045     1.2       2022\n",
       "274046     4.4       2022\n",
       "274047     3.6       2022\n",
       "274048     6.1       2022\n",
       "\n",
       "[274049 rows x 2 columns]"
      ]
     },
     "metadata": {},
     "output_type": "display_data"
    }
   ],
   "source": [
    "display(result4)"
   ]
  },
  {
   "cell_type": "code",
   "execution_count": 33,
   "id": "64bdd22e",
   "metadata": {},
   "outputs": [],
   "source": [
    "# Calculating median along time\n",
    "\n",
    "ratings = []\n",
    "for year in set(result4 ['premiered']):\n",
    "\tratings.append(np.median(result4[result4['premiered'] == year]['Rating']))"
   ]
  },
  {
   "cell_type": "code",
   "execution_count": 34,
   "id": "eee310c1",
   "metadata": {},
   "outputs": [
    {
     "data": {
      "text/plain": [
       "[4.5, 3.85, 5.85, 4.6, 3.5, 5.6, 5.4, 4.4, 3.6]"
      ]
     },
     "execution_count": 34,
     "metadata": {},
     "output_type": "execute_result"
    }
   ],
   "source": [
    "ratings[1:10]"
   ]
  },
  {
   "cell_type": "code",
   "execution_count": 35,
   "id": "237e165d",
   "metadata": {},
   "outputs": [],
   "source": [
    "anos = list(set(result4['premiered']))"
   ]
  },
  {
   "cell_type": "code",
   "execution_count": 36,
   "id": "0d436bc3",
   "metadata": {},
   "outputs": [
    {
     "data": {
      "text/plain": [
       "[1897, 1899, 1900, 1901, 1902, 1903, 1904, 1905, 1906]"
      ]
     },
     "execution_count": 36,
     "metadata": {},
     "output_type": "execute_result"
    }
   ],
   "source": [
    "anos[1:10]"
   ]
  },
  {
   "cell_type": "code",
   "execution_count": 37,
   "id": "753fcaff",
   "metadata": {},
   "outputs": [
    {
     "data": {
      "image/png": "[encoded data removed]",
      "text/plain": [
       "<Figure size 1152x576 with 1 Axes>"
      ]
     },
     "metadata": {},
     "output_type": "display_data"
    }
   ],
   "source": [
    "plt.figure(figsize = (16, 8))\n",
    "plt.plot(anos, ratings)\n",
    "plt.xlabel('\\nYear')\n",
    "plt.ylabel('\\nRating Median')\n",
    "plt.title('\\nYear by rating median')\n",
    "plt.show()"
   ]
  },
  {
   "cell_type": "code",
   "execution_count": null,
   "id": "92cd2d28",
   "metadata": {},
   "outputs": [],
   "source": []
  },
  {
   "cell_type": "code",
   "execution_count": null,
   "id": "c0a291c0",
   "metadata": {},
   "outputs": [],
   "source": []
  }
 ],
 "metadata": {
  "kernelspec": {
   "display_name": "Python 3 (ipykernel)",
   "language": "python",
   "name": "python3"
  },
  "language_info": {
   "codemirror_mode": {
    "name": "ipython",
    "version": 3
   },
   "file_extension": ".py",
   "mimetype": "text/x-python",
   "name": "python",
   "nbconvert_exporter": "python",
   "pygments_lexer": "ipython3",
   "version": "3.8.10"
  }
 },
 "nbformat": 4,
 "nbformat_minor": 5
}
