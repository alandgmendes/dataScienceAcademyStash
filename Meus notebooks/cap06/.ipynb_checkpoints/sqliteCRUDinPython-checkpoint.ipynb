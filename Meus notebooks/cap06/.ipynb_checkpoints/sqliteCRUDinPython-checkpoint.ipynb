{
 "cells": [
  {
   "cell_type": "markdown",
   "id": "d0585e74",
   "metadata": {},
   "source": [
    "# Capítulo 6 do curso de Python: fundamentos para análise de dados"
   ]
  },
  {
   "cell_type": "code",
   "execution_count": 1,
   "id": "74c47734",
   "metadata": {},
   "outputs": [],
   "source": [
    "## Este notebook tem finalidade puramente didática e por isso será documentoado de forma simples\n"
   ]
  },
  {
   "cell_type": "code",
   "execution_count": 2,
   "id": "15bf2da1",
   "metadata": {},
   "outputs": [],
   "source": [
    "### Esta será uma demonstração do uso de insert num banco de dados sqlite usando python\n",
    "### Ela englobará adições estáticas e dinâmicas"
   ]
  },
  {
   "cell_type": "raw",
   "id": "db2bc384",
   "metadata": {},
   "source": [
    "Checking if database is stored in memory, and in case it is, it cleans the database"
   ]
  },
  {
   "cell_type": "code",
   "execution_count": 3,
   "id": "df1f0bda",
   "metadata": {},
   "outputs": [],
   "source": [
    "import os\n",
    "import random\n",
    "import datetime\n",
    "import time\n",
    "import requests\n",
    "import re\n",
    "import matplotlib.pyplot as plt\n",
    "%matplotlib notebook"
   ]
  },
  {
   "cell_type": "code",
   "execution_count": 4,
   "id": "0b6c3f11",
   "metadata": {},
   "outputs": [],
   "source": [
    "os.remove(\"dsa.db\") if os.path.exists(\"dsa.db\") else None\n",
    "\n"
   ]
  },
  {
   "cell_type": "markdown",
   "id": "83c36383",
   "metadata": {},
   "source": [
    "Import Sqlite3 and create functions to create the following itens:\n",
    "+ A connection to the database\n",
    "+ A cursor\n",
    "+ A table in the database\n",
    "+ An inserting method"
   ]
  },
  {
   "cell_type": "code",
   "execution_count": 5,
   "id": "0237ef44",
   "metadata": {},
   "outputs": [],
   "source": [
    "import sqlite3\n",
    "\n",
    "#This is a crud, a create-read-update-delete system\n",
    "\n",
    "#connection:\n",
    "\n",
    "conn = sqlite3.connect(\"dsa.db\")\n",
    "\n",
    "#Cursor\n",
    "c = conn.cursor()\n",
    "\n",
    "#table creation\n",
    "def create_table():\n",
    "    c.execute(\"CREATE TABLE IF NOT EXISTS produtos(id INTEGER PRIMARY KEY AUTOINCREMENT NOT NULL, date TEXT '\\\n",
    "              ', prod_name TEXT, valor TEXT )\")\n",
    "#data insertion\n",
    "def data_insert(values):\n",
    "    \n",
    "    for value in values:\n",
    "        print(value)\n",
    "        c.execute(\"INSERT INTO produtos VALUES(?, '2020-17-01 17:17:17', ?, ?)\", (value[0], value[1], value[2]))\n",
    "        conn.commit()\n",
    "        \n",
    "#print all table\n",
    "def print_all():\n",
    "    c.execute(\"SELECT * FROM produtos\")\n",
    "    conn.commit()\n",
    "    produtos = c.fetchall()\n",
    "    for produto in produtos:\n",
    "        print(\"produto id \" + str(produto[0]) + \" data \" + produto[1] + \" produto \" + produto[2] + '\\\n",
    "              '\" custando \" + str(produto[3]))\n",
    "\n",
    "#update register\n",
    "def updater():\n",
    "    c.execute(\"UPDATE  produtos SET valor = 10 WHERE id = 5\")\n",
    "    conn.commit()\n",
    "    \n",
    "#delete register\n",
    "def deleter(num):\n",
    "    c.execute(\"DELETE FROM produtos WHERE ID = \" + str(num))\n",
    "\n",
    "#data generator to populate the database\n",
    "def data_generator(num):\n",
    "    word_site = \"https://www.mit.edu/~ecprice/wordlist.10000\"\n",
    "    response = requests.get(word_site)\n",
    "    WORDS = response.content.decode('UTF-8')\n",
    "    wordvec = WORDS.split(\"\\n\")\n",
    "\n",
    "    generated = [[]]\n",
    "    for i in range(0, 10):\n",
    "        generated.append([i, wordvec[random.randrange(1, 10000)], random.randrange(50, 100)])\n",
    "    return generated\n",
    "\n",
    "\n",
    "def plotter():\n",
    "    c.execute(\"SELECT id, valor FROM produtos\")\n",
    "    ids = []\n",
    "    valores = []\n",
    "    dados = c.fetchall()\n",
    "    for linha in dados:\n",
    "        print(linha)\n",
    "        ids.append(linha[0])\n",
    "        valores.append(linha[1])\n",
    "    plt.bar(ids, valores)\n",
    "    plt.show()\n",
    "        \n",
    "\n",
    "#close the database\n",
    "def closer():\n",
    "    c.close()\n",
    "    conn.close()\n",
    "    "
   ]
  },
  {
   "cell_type": "markdown",
   "id": "78a03d21",
   "metadata": {},
   "source": [
    "### Create a table in the database "
   ]
  },
  {
   "cell_type": "code",
   "execution_count": 6,
   "id": "12ef99a4",
   "metadata": {},
   "outputs": [],
   "source": [
    "create_table()"
   ]
  },
  {
   "cell_type": "markdown",
   "id": "910f1ecf",
   "metadata": {},
   "source": [
    "### Visualize the data that will populate the table"
   ]
  },
  {
   "cell_type": "code",
   "execution_count": 7,
   "id": "459806d1",
   "metadata": {
    "scrolled": true
   },
   "outputs": [
    {
     "name": "stdout",
     "output_type": "stream",
     "text": [
      "[[0, 'airports', 51], [1, 'comparing', 90], [2, 'implied', 88], [3, 'inn', 92], [4, 'automatically', 70], [5, 'anytime', 63], [6, 'teddy', 78], [7, 'ranking', 78], [8, 'databases', 50], [9, 'viewer', 70]]\n"
     ]
    }
   ],
   "source": [
    "data_to_db = data_generator(10)\n",
    "removed = data_to_db.pop(0)\n",
    "print(data_to_db)"
   ]
  },
  {
   "cell_type": "markdown",
   "id": "97d4d8b7",
   "metadata": {},
   "source": [
    "### Populating the table"
   ]
  },
  {
   "cell_type": "code",
   "execution_count": 8,
   "id": "9c34fa5d",
   "metadata": {},
   "outputs": [
    {
     "name": "stdout",
     "output_type": "stream",
     "text": [
      "[0, 'airports', 51]\n",
      "[1, 'comparing', 90]\n",
      "[2, 'implied', 88]\n",
      "[3, 'inn', 92]\n",
      "[4, 'automatically', 70]\n",
      "[5, 'anytime', 63]\n",
      "[6, 'teddy', 78]\n",
      "[7, 'ranking', 78]\n",
      "[8, 'databases', 50]\n",
      "[9, 'viewer', 70]\n"
     ]
    }
   ],
   "source": [
    "data_insert(data_to_db)"
   ]
  },
  {
   "cell_type": "code",
   "execution_count": 9,
   "id": "d61cd3d9",
   "metadata": {},
   "outputs": [
    {
     "name": "stdout",
     "output_type": "stream",
     "text": [
      "produto id 0 data 2020-17-01 17:17:17 produto airports               custando 51\n",
      "produto id 1 data 2020-17-01 17:17:17 produto comparing               custando 90\n",
      "produto id 2 data 2020-17-01 17:17:17 produto implied               custando 88\n",
      "produto id 3 data 2020-17-01 17:17:17 produto inn               custando 92\n",
      "produto id 4 data 2020-17-01 17:17:17 produto automatically               custando 70\n",
      "produto id 5 data 2020-17-01 17:17:17 produto anytime               custando 63\n",
      "produto id 6 data 2020-17-01 17:17:17 produto teddy               custando 78\n",
      "produto id 7 data 2020-17-01 17:17:17 produto ranking               custando 78\n",
      "produto id 8 data 2020-17-01 17:17:17 produto databases               custando 50\n",
      "produto id 9 data 2020-17-01 17:17:17 produto viewer               custando 70\n"
     ]
    }
   ],
   "source": [
    "print_all()"
   ]
  },
  {
   "cell_type": "code",
   "execution_count": 10,
   "id": "a8c6ce32",
   "metadata": {},
   "outputs": [
    {
     "name": "stdout",
     "output_type": "stream",
     "text": [
      "(0, '51')\n",
      "(1, '90')\n",
      "(2, '88')\n",
      "(3, '92')\n",
      "(4, '70')\n",
      "(5, '63')\n",
      "(6, '78')\n",
      "(7, '78')\n",
      "(8, '50')\n",
      "(9, '70')\n",
      "51\n",
      "90\n",
      "88\n",
      "92\n",
      "70\n",
      "63\n",
      "78\n",
      "78\n",
      "50\n",
      "70\n",
      "1\n"
     ]
    },
    {
     "ename": "IndexError",
     "evalue": "string index out of range",
     "output_type": "error",
     "traceback": [
      "\u001b[0;31m---------------------------------------------------------------------------\u001b[0m",
      "\u001b[0;31mIndexError\u001b[0m                                Traceback (most recent call last)",
      "Input \u001b[0;32mIn [10]\u001b[0m, in \u001b[0;36m<module>\u001b[0;34m\u001b[0m\n\u001b[0;32m----> 1\u001b[0m \u001b[43mplotter\u001b[49m\u001b[43m(\u001b[49m\u001b[43m)\u001b[49m\n",
      "Input \u001b[0;32mIn [5]\u001b[0m, in \u001b[0;36mplotter\u001b[0;34m()\u001b[0m\n\u001b[1;32m     61\u001b[0m     \u001b[38;5;28mprint\u001b[39m(linha)\n\u001b[1;32m     62\u001b[0m     ids\u001b[38;5;241m.\u001b[39mappend(linha[\u001b[38;5;241m0\u001b[39m])\n\u001b[0;32m---> 63\u001b[0m     dados\u001b[38;5;241m.\u001b[39mappend(\u001b[43mlinha\u001b[49m\u001b[43m[\u001b[49m\u001b[38;5;241;43m1\u001b[39;49m\u001b[43m]\u001b[49m)\n\u001b[1;32m     64\u001b[0m plt\u001b[38;5;241m.\u001b[39mbar(ids, valores)\n\u001b[1;32m     65\u001b[0m plt\u001b[38;5;241m.\u001b[39mshow()\n",
      "\u001b[0;31mIndexError\u001b[0m: string index out of range"
     ]
    }
   ],
   "source": [
    "plotter()"
   ]
  }
 ],
 "metadata": {
  "kernelspec": {
   "display_name": "Python 3 (ipykernel)",
   "language": "python",
   "name": "python3"
  },
  "language_info": {
   "codemirror_mode": {
    "name": "ipython",
    "version": 3
   },
   "file_extension": ".py",
   "mimetype": "text/x-python",
   "name": "python",
   "nbconvert_exporter": "python",
   "pygments_lexer": "ipython3",
   "version": "3.8.10"
  }
 },
 "nbformat": 4,
 "nbformat_minor": 5
}
