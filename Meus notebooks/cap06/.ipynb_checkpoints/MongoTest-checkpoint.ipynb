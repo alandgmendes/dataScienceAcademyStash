{
 "cells": [
  {
   "cell_type": "markdown",
   "id": "bd25bee3",
   "metadata": {},
   "source": [
    "This is a mongodb test, so it will be poorly documented\n"
   ]
  },
  {
   "cell_type": "markdown",
   "id": "476f1601",
   "metadata": {},
   "source": [
    "Importing mongo Client"
   ]
  },
  {
   "cell_type": "code",
   "execution_count": 1,
   "id": "11d70fe3",
   "metadata": {},
   "outputs": [],
   "source": [
    "from pymongo import MongoClient"
   ]
  },
  {
   "cell_type": "markdown",
   "id": "0dbd060d",
   "metadata": {},
   "source": [
    "Creating connection"
   ]
  },
  {
   "cell_type": "code",
   "execution_count": 2,
   "id": "ce713d55",
   "metadata": {},
   "outputs": [],
   "source": [
    "conn = MongoClient('localhost', 27017)"
   ]
  },
  {
   "cell_type": "markdown",
   "id": "dd233783",
   "metadata": {},
   "source": [
    "Creating Conenction"
   ]
  },
  {
   "cell_type": "code",
   "execution_count": 3,
   "id": "0be7a27c",
   "metadata": {},
   "outputs": [],
   "source": [
    "db = conn.cadastroDb"
   ]
  },
  {
   "cell_type": "markdown",
   "id": "236c5c04",
   "metadata": {},
   "source": [
    "Creating a collection in the database"
   ]
  },
  {
   "cell_type": "code",
   "execution_count": 4,
   "id": "114073a4",
   "metadata": {},
   "outputs": [],
   "source": [
    "collection = db.cadastrodb"
   ]
  },
  {
   "cell_type": "markdown",
   "id": "56254efa",
   "metadata": {},
   "source": [
    "Inserts are made using dictionaries"
   ]
  },
  {
   "cell_type": "code",
   "execution_count": 5,
   "id": "9fd89b90",
   "metadata": {},
   "outputs": [],
   "source": [
    "post1  = {\n",
    "    \"nome\":\"Alan\",\n",
    "    \"sobrenome\": \"Douglas\"\n",
    "}"
   ]
  },
  {
   "cell_type": "markdown",
   "id": "f53d2496",
   "metadata": {},
   "source": [
    "Calling a collection"
   ]
  },
  {
   "cell_type": "code",
   "execution_count": 6,
   "id": "7f1ee355",
   "metadata": {},
   "outputs": [],
   "source": [
    "collection = db.posts"
   ]
  },
  {
   "cell_type": "markdown",
   "id": "99514a1c",
   "metadata": {},
   "source": [
    "Inserting in the colection"
   ]
  },
  {
   "cell_type": "code",
   "execution_count": 7,
   "id": "da4a3fb2",
   "metadata": {},
   "outputs": [],
   "source": [
    "post_id = collection.insert_one(post1)"
   ]
  },
  {
   "cell_type": "markdown",
   "id": "b0c533fe",
   "metadata": {},
   "source": [
    "Id of operation"
   ]
  },
  {
   "cell_type": "code",
   "execution_count": 8,
   "id": "d27e4218",
   "metadata": {},
   "outputs": [
    {
     "data": {
      "text/plain": [
       "ObjectId('61f72c62bf336dfc7a65c4af')"
      ]
     },
     "execution_count": 8,
     "metadata": {},
     "output_type": "execute_result"
    }
   ],
   "source": [
    "post_id.inserted_id\n"
   ]
  },
  {
   "cell_type": "code",
   "execution_count": 9,
   "id": "55e5cbc2",
   "metadata": {},
   "outputs": [
    {
     "data": {
      "text/plain": [
       "<pymongo.results.InsertOneResult at 0x7fbc8c066d40>"
      ]
     },
     "execution_count": 9,
     "metadata": {},
     "output_type": "execute_result"
    }
   ],
   "source": [
    "post_id\n"
   ]
  },
  {
   "cell_type": "markdown",
   "id": "6d5cb72e",
   "metadata": {},
   "source": [
    "Searching an onbject in mongo"
   ]
  },
  {
   "cell_type": "code",
   "execution_count": 10,
   "id": "831220b5",
   "metadata": {},
   "outputs": [
    {
     "data": {
      "text/plain": [
       "{'_id': ObjectId('61f72a4acbaf64a01e39cdd2'),\n",
       " 'nome': 'Alan',\n",
       " 'sobrenome': 'Douglas'}"
      ]
     },
     "execution_count": 10,
     "metadata": {},
     "output_type": "execute_result"
    }
   ],
   "source": [
    "collection.find_one({\"nome\": \"Alan\"})"
   ]
  },
  {
   "cell_type": "markdown",
   "id": "2f9d5dcf",
   "metadata": {},
   "source": [
    "Showing all objects saved"
   ]
  },
  {
   "cell_type": "code",
   "execution_count": 11,
   "id": "3172e8bc",
   "metadata": {},
   "outputs": [
    {
     "name": "stdout",
     "output_type": "stream",
     "text": [
      "{'_id': ObjectId('61f72a4acbaf64a01e39cdd2'), 'nome': 'Alan', 'sobrenome': 'Douglas'}\n",
      "{'_id': ObjectId('61f72bd4102aab63600600f0'), 'nome': 'Alan', 'sobrenome': 'Douglas'}\n",
      "{'_id': ObjectId('61f72c62bf336dfc7a65c4af'), 'nome': 'Alan', 'sobrenome': 'Douglas'}\n"
     ]
    }
   ],
   "source": [
    "for post in collection.find():\n",
    "    print(post)"
   ]
  },
  {
   "cell_type": "markdown",
   "id": "58eb58dc",
   "metadata": {},
   "source": [
    "Showing name of db"
   ]
  },
  {
   "cell_type": "code",
   "execution_count": 12,
   "id": "ced54db4",
   "metadata": {},
   "outputs": [
    {
     "data": {
      "text/plain": [
       "'cadastroDb'"
      ]
     },
     "execution_count": 12,
     "metadata": {},
     "output_type": "execute_result"
    }
   ],
   "source": [
    "db.name"
   ]
  },
  {
   "cell_type": "markdown",
   "id": "e85da824",
   "metadata": {},
   "source": [
    "Showing colelction names"
   ]
  },
  {
   "cell_type": "code",
   "execution_count": 14,
   "id": "f5caca4d",
   "metadata": {},
   "outputs": [
    {
     "data": {
      "text/plain": [
       "Collection(Database(MongoClient(host=['localhost:27017'], document_class=dict, tz_aware=False, connect=True), 'cadastroDb'), 'new_collection')"
      ]
     },
     "execution_count": 14,
     "metadata": {},
     "output_type": "execute_result"
    }
   ],
   "source": [
    "db.create_collection('new_collection')"
   ]
  },
  {
   "cell_type": "markdown",
   "id": "1d6ca3e9",
   "metadata": {},
   "source": []
  },
  {
   "cell_type": "code",
   "execution_count": null,
   "id": "3e3233c9",
   "metadata": {
    "collapsed": true
   },
   "outputs": [],
   "source": []
  }
 ],
 "metadata": {
  "kernelspec": {
   "display_name": "Python 3 (ipykernel)",
   "language": "python",
   "name": "python3"
  },
  "language_info": {
   "codemirror_mode": {
    "name": "ipython",
    "version": 3
   },
   "file_extension": ".py",
   "mimetype": "text/x-python",
   "name": "python",
   "nbconvert_exporter": "python",
   "pygments_lexer": "ipython3",
   "version": "3.8.10"
  }
 },
 "nbformat": 4,
 "nbformat_minor": 5
}
