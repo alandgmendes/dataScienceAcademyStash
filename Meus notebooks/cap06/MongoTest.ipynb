{
 "cells": [
  {
   "cell_type": "markdown",
   "id": "0ee5fc0c",
   "metadata": {},
   "source": [
    "This is a mongodb test, so it will be poorly documented\n"
   ]
  },
  {
   "cell_type": "markdown",
   "id": "06be57a7",
   "metadata": {},
   "source": [
    "Importing mongo Client"
   ]
  },
  {
   "cell_type": "code",
   "execution_count": 1,
   "id": "44d6c190",
   "metadata": {},
   "outputs": [],
   "source": [
    "from pymongo import MongoClient"
   ]
  },
  {
   "cell_type": "markdown",
   "id": "7e9fd2c9",
   "metadata": {},
   "source": [
    "Creating connection"
   ]
  },
  {
   "cell_type": "code",
   "execution_count": 2,
   "id": "942c638b",
   "metadata": {},
   "outputs": [],
   "source": [
    "conn = MongoClient('localhost', 27017)"
   ]
  },
  {
   "cell_type": "markdown",
   "id": "c055df95",
   "metadata": {},
   "source": [
    "Creating Conenction"
   ]
  },
  {
   "cell_type": "code",
   "execution_count": 3,
   "id": "32ce60f3",
   "metadata": {},
   "outputs": [],
   "source": [
    "db = conn.cadastroDb"
   ]
  },
  {
   "cell_type": "markdown",
   "id": "7f219c24",
   "metadata": {},
   "source": [
    "Creating a collection in the database"
   ]
  },
  {
   "cell_type": "code",
   "execution_count": 4,
   "id": "db273d9b",
   "metadata": {},
   "outputs": [],
   "source": [
    "collection = db.cadastrodb"
   ]
  },
  {
   "cell_type": "markdown",
   "id": "f797e6b5",
   "metadata": {},
   "source": [
    "Inserts are made using dictionaries"
   ]
  },
  {
   "cell_type": "code",
   "execution_count": 5,
   "id": "8f70dc85",
   "metadata": {},
   "outputs": [],
   "source": [
    "post1  = {\n",
    "    \"nome\":\"Alan\",\n",
    "    \"sobrenome\": \"Douglas\"\n",
    "}"
   ]
  },
  {
   "cell_type": "markdown",
   "id": "50ee333c",
   "metadata": {},
   "source": [
    "Calling a collection"
   ]
  },
  {
   "cell_type": "code",
   "execution_count": 6,
   "id": "f499653e",
   "metadata": {},
   "outputs": [],
   "source": [
    "collection = db.posts"
   ]
  },
  {
   "cell_type": "markdown",
   "id": "1fbc72ef",
   "metadata": {},
   "source": [
    "Inserting in the colection"
   ]
  },
  {
   "cell_type": "code",
   "execution_count": 7,
   "id": "41ff116b",
   "metadata": {},
   "outputs": [],
   "source": [
    "post_id = collection.insert_one(post1)"
   ]
  },
  {
   "cell_type": "markdown",
   "id": "965a2054",
   "metadata": {},
   "source": [
    "Id of operation"
   ]
  },
  {
   "cell_type": "code",
   "execution_count": 8,
   "id": "1ce01780",
   "metadata": {},
   "outputs": [
    {
     "data": {
      "text/plain": [
       "ObjectId('6204428929a9bb0f362cd9eb')"
      ]
     },
     "execution_count": 8,
     "metadata": {},
     "output_type": "execute_result"
    }
   ],
   "source": [
    "post_id.inserted_id\n"
   ]
  },
  {
   "cell_type": "code",
   "execution_count": 9,
   "id": "d251ec28",
   "metadata": {},
   "outputs": [
    {
     "data": {
      "text/plain": [
       "<pymongo.results.InsertOneResult at 0x7f900c641240>"
      ]
     },
     "execution_count": 9,
     "metadata": {},
     "output_type": "execute_result"
    }
   ],
   "source": [
    "post_id\n"
   ]
  },
  {
   "cell_type": "markdown",
   "id": "308eb863",
   "metadata": {},
   "source": [
    "Searching an onbject in mongo"
   ]
  },
  {
   "cell_type": "code",
   "execution_count": 10,
   "id": "3f37f02e",
   "metadata": {},
   "outputs": [
    {
     "data": {
      "text/plain": [
       "{'_id': ObjectId('61f72a4acbaf64a01e39cdd2'),\n",
       " 'nome': 'Alan',\n",
       " 'sobrenome': 'Douglas'}"
      ]
     },
     "execution_count": 10,
     "metadata": {},
     "output_type": "execute_result"
    }
   ],
   "source": [
    "collection.find_one({\"nome\": \"Alan\"})"
   ]
  },
  {
   "cell_type": "markdown",
   "id": "37a887c7",
   "metadata": {},
   "source": [
    "Showing all objects saved"
   ]
  },
  {
   "cell_type": "code",
   "execution_count": 11,
   "id": "a606e4b8",
   "metadata": {},
   "outputs": [
    {
     "name": "stdout",
     "output_type": "stream",
     "text": [
      "{'_id': ObjectId('61f72a4acbaf64a01e39cdd2'), 'nome': 'Alan', 'sobrenome': 'Douglas'}\n",
      "{'_id': ObjectId('61f72bd4102aab63600600f0'), 'nome': 'Alan', 'sobrenome': 'Douglas'}\n",
      "{'_id': ObjectId('61f72c62bf336dfc7a65c4af'), 'nome': 'Alan', 'sobrenome': 'Douglas'}\n",
      "{'_id': ObjectId('6204426715abdfd968a7f845'), 'nome': 'Alan', 'sobrenome': 'Douglas'}\n",
      "{'_id': ObjectId('6204428929a9bb0f362cd9eb'), 'nome': 'Alan', 'sobrenome': 'Douglas'}\n"
     ]
    }
   ],
   "source": [
    "for post in collection.find():\n",
    "    print(post)"
   ]
  },
  {
   "cell_type": "markdown",
   "id": "b7207583",
   "metadata": {},
   "source": [
    "Showing name of db"
   ]
  },
  {
   "cell_type": "code",
   "execution_count": 12,
   "id": "c0e547e3",
   "metadata": {},
   "outputs": [
    {
     "data": {
      "text/plain": [
       "'cadastroDb'"
      ]
     },
     "execution_count": 12,
     "metadata": {},
     "output_type": "execute_result"
    }
   ],
   "source": [
    "db.name"
   ]
  },
  {
   "cell_type": "markdown",
   "id": "fd06c20d",
   "metadata": {},
   "source": [
    "Showing collection names"
   ]
  },
  {
   "cell_type": "code",
   "execution_count": 15,
   "id": "b761d7a7",
   "metadata": {},
   "outputs": [
    {
     "data": {
      "text/plain": [
       "Collection(Database(MongoClient(host=['localhost:27017'], document_class=dict, tz_aware=False, connect=True), 'cadastroDb'), 'new_collection2')"
      ]
     },
     "execution_count": 15,
     "metadata": {},
     "output_type": "execute_result"
    }
   ],
   "source": [
    "db.create_collection('new_collection2')"
   ]
  },
  {
   "cell_type": "markdown",
   "id": "cae3e2c2",
   "metadata": {},
   "source": []
  },
  {
   "cell_type": "code",
   "execution_count": 16,
   "id": "71fb56d4",
   "metadata": {},
   "outputs": [
    {
     "ename": "TypeError",
     "evalue": "'Collection' object is not callable. If you meant to call the 'collection_names' method on a 'Database' object it is failing because no such method exists.",
     "output_type": "error",
     "traceback": [
      "\u001b[0;31m---------------------------------------------------------------------------\u001b[0m",
      "\u001b[0;31mTypeError\u001b[0m                                 Traceback (most recent call last)",
      "Input \u001b[0;32mIn [16]\u001b[0m, in \u001b[0;36m<module>\u001b[0;34m\u001b[0m\n\u001b[0;32m----> 1\u001b[0m \u001b[43mdb\u001b[49m\u001b[38;5;241;43m.\u001b[39;49m\u001b[43mcollection_names\u001b[49m\u001b[43m(\u001b[49m\u001b[43m)\u001b[49m\n",
      "File \u001b[0;32m~/dataScienceAcademy/jupyter/lib/python3.8/site-packages/pymongo/collection.py:2579\u001b[0m, in \u001b[0;36mCollection.__call__\u001b[0;34m(self, *args, **kwargs)\u001b[0m\n\u001b[1;32m   2576\u001b[0m \u001b[38;5;124;03m\"\"\"This is only here so that some API misusages are easier to debug.\u001b[39;00m\n\u001b[1;32m   2577\u001b[0m \u001b[38;5;124;03m\"\"\"\u001b[39;00m\n\u001b[1;32m   2578\u001b[0m \u001b[38;5;28;01mif\u001b[39;00m \u001b[38;5;124m\"\u001b[39m\u001b[38;5;124m.\u001b[39m\u001b[38;5;124m\"\u001b[39m \u001b[38;5;129;01mnot\u001b[39;00m \u001b[38;5;129;01min\u001b[39;00m \u001b[38;5;28mself\u001b[39m\u001b[38;5;241m.\u001b[39m__name:\n\u001b[0;32m-> 2579\u001b[0m     \u001b[38;5;28;01mraise\u001b[39;00m \u001b[38;5;167;01mTypeError\u001b[39;00m(\u001b[38;5;124m\"\u001b[39m\u001b[38;5;124m'\u001b[39m\u001b[38;5;124mCollection\u001b[39m\u001b[38;5;124m'\u001b[39m\u001b[38;5;124m object is not callable. If you \u001b[39m\u001b[38;5;124m\"\u001b[39m\n\u001b[1;32m   2580\u001b[0m                     \u001b[38;5;124m\"\u001b[39m\u001b[38;5;124mmeant to call the \u001b[39m\u001b[38;5;124m'\u001b[39m\u001b[38;5;132;01m%s\u001b[39;00m\u001b[38;5;124m'\u001b[39m\u001b[38;5;124m method on a \u001b[39m\u001b[38;5;124m'\u001b[39m\u001b[38;5;124mDatabase\u001b[39m\u001b[38;5;124m'\u001b[39m\u001b[38;5;124m \u001b[39m\u001b[38;5;124m\"\u001b[39m\n\u001b[1;32m   2581\u001b[0m                     \u001b[38;5;124m\"\u001b[39m\u001b[38;5;124mobject it is failing because no such method \u001b[39m\u001b[38;5;124m\"\u001b[39m\n\u001b[1;32m   2582\u001b[0m                     \u001b[38;5;124m\"\u001b[39m\u001b[38;5;124mexists.\u001b[39m\u001b[38;5;124m\"\u001b[39m \u001b[38;5;241m%\u001b[39m\n\u001b[1;32m   2583\u001b[0m                     \u001b[38;5;28mself\u001b[39m\u001b[38;5;241m.\u001b[39m__name)\n\u001b[1;32m   2584\u001b[0m \u001b[38;5;28;01mraise\u001b[39;00m \u001b[38;5;167;01mTypeError\u001b[39;00m(\u001b[38;5;124m\"\u001b[39m\u001b[38;5;124m'\u001b[39m\u001b[38;5;124mCollection\u001b[39m\u001b[38;5;124m'\u001b[39m\u001b[38;5;124m object is not callable. If you meant to \u001b[39m\u001b[38;5;124m\"\u001b[39m\n\u001b[1;32m   2585\u001b[0m                 \u001b[38;5;124m\"\u001b[39m\u001b[38;5;124mcall the \u001b[39m\u001b[38;5;124m'\u001b[39m\u001b[38;5;132;01m%s\u001b[39;00m\u001b[38;5;124m'\u001b[39m\u001b[38;5;124m method on a \u001b[39m\u001b[38;5;124m'\u001b[39m\u001b[38;5;124mCollection\u001b[39m\u001b[38;5;124m'\u001b[39m\u001b[38;5;124m object it is \u001b[39m\u001b[38;5;124m\"\u001b[39m\n\u001b[1;32m   2586\u001b[0m                 \u001b[38;5;124m\"\u001b[39m\u001b[38;5;124mfailing because no such method exists.\u001b[39m\u001b[38;5;124m\"\u001b[39m \u001b[38;5;241m%\u001b[39m\n\u001b[1;32m   2587\u001b[0m                 \u001b[38;5;28mself\u001b[39m\u001b[38;5;241m.\u001b[39m__name\u001b[38;5;241m.\u001b[39msplit(\u001b[38;5;124m\"\u001b[39m\u001b[38;5;124m.\u001b[39m\u001b[38;5;124m\"\u001b[39m)[\u001b[38;5;241m-\u001b[39m\u001b[38;5;241m1\u001b[39m])\n",
      "\u001b[0;31mTypeError\u001b[0m: 'Collection' object is not callable. If you meant to call the 'collection_names' method on a 'Database' object it is failing because no such method exists."
     ]
    }
   ],
   "source": [
    "db.collection_names()"
   ]
  },
  {
   "cell_type": "code",
   "execution_count": null,
   "id": "4be39d5a",
   "metadata": {},
   "outputs": [],
   "source": []
  }
 ],
 "metadata": {
  "kernelspec": {
   "display_name": "Python 3 (ipykernel)",
   "language": "python",
   "name": "python3"
  },
  "language_info": {
   "codemirror_mode": {
    "name": "ipython",
    "version": 3
   },
   "file_extension": ".py",
   "mimetype": "text/x-python",
   "name": "python",
   "nbconvert_exporter": "python",
   "pygments_lexer": "ipython3",
   "version": "3.8.10"
  }
 },
 "nbformat": 4,
 "nbformat_minor": 5
}
